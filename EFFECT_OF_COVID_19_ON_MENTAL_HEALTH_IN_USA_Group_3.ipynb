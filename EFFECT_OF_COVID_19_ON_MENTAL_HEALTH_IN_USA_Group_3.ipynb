{
  "cells": [
    {
      "cell_type": "markdown",
      "metadata": {
        "id": "view-in-github",
        "colab_type": "text"
      },
      "source": [
        "<a href=\"https://colab.research.google.com/github/01DaisyLynn/EFFECT-OF-COVID-ON-MENTAL-HEALTH/blob/main/EFFECT_OF_COVID_19_ON_MENTAL_HEALTH_IN_USA_Group_3.ipynb\" target=\"_parent\"><img src=\"https://colab.research.google.com/assets/colab-badge.svg\" alt=\"Open In Colab\"/></a>"
      ]
    },
    {
      "cell_type": "markdown",
      "metadata": {
        "id": "_ytSvFGSSgSV"
      },
      "source": [
        "# **EFFECT OF COVID 19 ON MENTAL HEALTH IN USA**\n",
        "\n"
      ]
    },
    {
      "cell_type": "markdown",
      "source": [
        "## 1.Defining the Question"
      ],
      "metadata": {
        "id": "1HcfM1Q6-_mT"
      }
    },
    {
      "cell_type": "markdown",
      "source": [
        "### a) Specifying the Data Analytic Question"
      ],
      "metadata": {
        "id": "QaKx-qixAJqd"
      }
    },
    {
      "cell_type": "markdown",
      "metadata": {
        "id": "v0ByjurbLpzF"
      },
      "source": [
        "> To determine which group of individuals were mostly affected in regards to mental health during the Covid pandemic.\n"
      ]
    },
    {
      "cell_type": "markdown",
      "source": [
        "### b) Defining the Metric for Success"
      ],
      "metadata": {
        "id": "Ii8qFvX2AVWw"
      }
    },
    {
      "cell_type": "markdown",
      "source": [
        "> Results that are going to investigate whether younger individuals were affected as equally as the older individuals."
      ],
      "metadata": {
        "id": "5ySY5muVzvOl"
      }
    },
    {
      "cell_type": "markdown",
      "source": [
        "### c) Understanding the context"
      ],
      "metadata": {
        "id": "fR9NI07JAW-O"
      }
    },
    {
      "cell_type": "markdown",
      "metadata": {
        "id": "N5bKTNhtLZXx"
      },
      "source": [
        "> The COVID-19 pandemic and the resulting economic recession have negatively affected many people’s mental health and created new barriers for people already suffering from mental illness and substance use disorders. \n",
        "\n",
        "> As the pandemic wears on, ongoing and necessary public health measures expose many people to experiencing situations linked to poor mental health outcomes, such as isolation and job loss. \n",
        "\n",
        "> The main aim for this research is to come up with relevant information for the government to help individuals whose mental health was largely affected by the Covid pandemic.\n"
      ]
    },
    {
      "cell_type": "markdown",
      "source": [
        "### d) Recording the Experimental Design"
      ],
      "metadata": {
        "id": "n7TOjy2BAXoe"
      }
    },
    {
      "cell_type": "markdown",
      "source": [
        "1. Defining the Question \n",
        "\n",
        "2. Reading the Data\n",
        "\n",
        "3.  Checking the Data\n",
        "\n",
        "4.  External Data Source Validation\n",
        "\n",
        "5.  Tidying the Dataset\n",
        "\n",
        "6.  Exploratory Analysis\n",
        "\n",
        "7.  Statistical Sampling\n",
        "\n",
        "8.  Statistical distribution.\n",
        "\n",
        "9.  Hypothesis Conclusion."
      ],
      "metadata": {
        "id": "ExEqw7Dz0g2r"
      }
    },
    {
      "cell_type": "markdown",
      "source": [
        "### e)Data Relevance"
      ],
      "metadata": {
        "id": "lvhCF6XZ0pSZ"
      }
    },
    {
      "cell_type": "markdown",
      "source": [
        "The varibles given in the dataset will be sufficient to conduct our analysis."
      ],
      "metadata": {
        "id": "IpWMlR150vd_"
      }
    },
    {
      "cell_type": "markdown",
      "source": [
        "## 2.Reading the Data\n"
      ],
      "metadata": {
        "id": "uw8H6sjzAkMy"
      }
    },
    {
      "cell_type": "code",
      "execution_count": null,
      "metadata": {
        "id": "3EWm8usYhwL4"
      },
      "outputs": [],
      "source": [
        "#importing libraries\n",
        "#Importing Pandas\n",
        "import pandas as pd\n",
        "\n",
        "#importing numpy\n",
        "import numpy as np\n",
        "\n",
        "#importing matplotlib\n",
        "import matplotlib.pyplot as plt\n",
        "\n",
        "#importing seaborn\n",
        "import seaborn as sns\n"
      ]
    },
    {
      "cell_type": "code",
      "execution_count": null,
      "metadata": {
        "colab": {
          "base_uri": "https://localhost:8080/",
          "height": 1000
        },
        "id": "ridr8POrhzKK",
        "outputId": "81d83890-8175-4533-fb8c-eda84307231e"
      },
      "outputs": [
        {
          "output_type": "execute_result",
          "data": {
            "text/html": [
              "\n",
              "  <div id=\"df-9002e2b6-1ed9-44ae-9067-223b36d89bb4\">\n",
              "    <div class=\"colab-df-container\">\n",
              "      <div>\n",
              "<style scoped>\n",
              "    .dataframe tbody tr th:only-of-type {\n",
              "        vertical-align: middle;\n",
              "    }\n",
              "\n",
              "    .dataframe tbody tr th {\n",
              "        vertical-align: top;\n",
              "    }\n",
              "\n",
              "    .dataframe thead th {\n",
              "        text-align: right;\n",
              "    }\n",
              "</style>\n",
              "<table border=\"1\" class=\"dataframe\">\n",
              "  <thead>\n",
              "    <tr style=\"text-align: right;\">\n",
              "      <th></th>\n",
              "      <th>Indicator</th>\n",
              "      <th>Group</th>\n",
              "      <th>State</th>\n",
              "      <th>Subgroup</th>\n",
              "      <th>Phase</th>\n",
              "      <th>Time Period</th>\n",
              "      <th>Time Period Label</th>\n",
              "      <th>Time Period Start Date</th>\n",
              "      <th>Time Period End Date</th>\n",
              "      <th>Value</th>\n",
              "      <th>LowCI</th>\n",
              "      <th>HighCI</th>\n",
              "      <th>Confidence Interval</th>\n",
              "      <th>Quartile Range</th>\n",
              "      <th>Suppression Flag</th>\n",
              "    </tr>\n",
              "  </thead>\n",
              "  <tbody>\n",
              "    <tr>\n",
              "      <th>0</th>\n",
              "      <td>Took Prescription Medication for Mental Health...</td>\n",
              "      <td>National Estimate</td>\n",
              "      <td>United States</td>\n",
              "      <td>United States</td>\n",
              "      <td>2</td>\n",
              "      <td>13</td>\n",
              "      <td>Aug 19 - Aug 31, 2020</td>\n",
              "      <td>08/19/2020</td>\n",
              "      <td>08/31/2020</td>\n",
              "      <td>19.4</td>\n",
              "      <td>19.0</td>\n",
              "      <td>19.8</td>\n",
              "      <td>19.0 - 19.8</td>\n",
              "      <td>NaN</td>\n",
              "      <td>NaN</td>\n",
              "    </tr>\n",
              "    <tr>\n",
              "      <th>1</th>\n",
              "      <td>Took Prescription Medication for Mental Health...</td>\n",
              "      <td>By Age</td>\n",
              "      <td>United States</td>\n",
              "      <td>18 - 29 years</td>\n",
              "      <td>2</td>\n",
              "      <td>13</td>\n",
              "      <td>Aug 19 - Aug 31, 2020</td>\n",
              "      <td>08/19/2020</td>\n",
              "      <td>08/31/2020</td>\n",
              "      <td>18.7</td>\n",
              "      <td>17.2</td>\n",
              "      <td>20.3</td>\n",
              "      <td>17.2 - 20.3</td>\n",
              "      <td>NaN</td>\n",
              "      <td>NaN</td>\n",
              "    </tr>\n",
              "    <tr>\n",
              "      <th>2</th>\n",
              "      <td>Took Prescription Medication for Mental Health...</td>\n",
              "      <td>By Age</td>\n",
              "      <td>United States</td>\n",
              "      <td>30 - 39 years</td>\n",
              "      <td>2</td>\n",
              "      <td>13</td>\n",
              "      <td>Aug 19 - Aug 31, 2020</td>\n",
              "      <td>08/19/2020</td>\n",
              "      <td>08/31/2020</td>\n",
              "      <td>18.3</td>\n",
              "      <td>17.3</td>\n",
              "      <td>19.2</td>\n",
              "      <td>17.3 - 19.2</td>\n",
              "      <td>NaN</td>\n",
              "      <td>NaN</td>\n",
              "    </tr>\n",
              "    <tr>\n",
              "      <th>3</th>\n",
              "      <td>Took Prescription Medication for Mental Health...</td>\n",
              "      <td>By Age</td>\n",
              "      <td>United States</td>\n",
              "      <td>40 - 49 years</td>\n",
              "      <td>2</td>\n",
              "      <td>13</td>\n",
              "      <td>Aug 19 - Aug 31, 2020</td>\n",
              "      <td>08/19/2020</td>\n",
              "      <td>08/31/2020</td>\n",
              "      <td>20.4</td>\n",
              "      <td>19.5</td>\n",
              "      <td>21.3</td>\n",
              "      <td>19.5 - 21.3</td>\n",
              "      <td>NaN</td>\n",
              "      <td>NaN</td>\n",
              "    </tr>\n",
              "    <tr>\n",
              "      <th>4</th>\n",
              "      <td>Took Prescription Medication for Mental Health...</td>\n",
              "      <td>By Age</td>\n",
              "      <td>United States</td>\n",
              "      <td>50 - 59 years</td>\n",
              "      <td>2</td>\n",
              "      <td>13</td>\n",
              "      <td>Aug 19 - Aug 31, 2020</td>\n",
              "      <td>08/19/2020</td>\n",
              "      <td>08/31/2020</td>\n",
              "      <td>21.2</td>\n",
              "      <td>20.2</td>\n",
              "      <td>22.2</td>\n",
              "      <td>20.2 - 22.2</td>\n",
              "      <td>NaN</td>\n",
              "      <td>NaN</td>\n",
              "    </tr>\n",
              "    <tr>\n",
              "      <th>...</th>\n",
              "      <td>...</td>\n",
              "      <td>...</td>\n",
              "      <td>...</td>\n",
              "      <td>...</td>\n",
              "      <td>...</td>\n",
              "      <td>...</td>\n",
              "      <td>...</td>\n",
              "      <td>...</td>\n",
              "      <td>...</td>\n",
              "      <td>...</td>\n",
              "      <td>...</td>\n",
              "      <td>...</td>\n",
              "      <td>...</td>\n",
              "      <td>...</td>\n",
              "      <td>...</td>\n",
              "    </tr>\n",
              "    <tr>\n",
              "      <th>9003</th>\n",
              "      <td>Needed Counseling or Therapy But Did Not Get I...</td>\n",
              "      <td>By State</td>\n",
              "      <td>Virginia</td>\n",
              "      <td>Virginia</td>\n",
              "      <td>3.3</td>\n",
              "      <td>41</td>\n",
              "      <td>Dec 29, 2021 - Jan 10, 2022</td>\n",
              "      <td>12/29/2021</td>\n",
              "      <td>01/10/2022</td>\n",
              "      <td>12.9</td>\n",
              "      <td>10.3</td>\n",
              "      <td>15.8</td>\n",
              "      <td>10.3 - 15.8</td>\n",
              "      <td>11.7-13.0</td>\n",
              "      <td>NaN</td>\n",
              "    </tr>\n",
              "    <tr>\n",
              "      <th>9004</th>\n",
              "      <td>Needed Counseling or Therapy But Did Not Get I...</td>\n",
              "      <td>By State</td>\n",
              "      <td>Washington</td>\n",
              "      <td>Washington</td>\n",
              "      <td>3.3</td>\n",
              "      <td>41</td>\n",
              "      <td>Dec 29, 2021 - Jan 10, 2022</td>\n",
              "      <td>12/29/2021</td>\n",
              "      <td>01/10/2022</td>\n",
              "      <td>14.3</td>\n",
              "      <td>12.4</td>\n",
              "      <td>16.4</td>\n",
              "      <td>12.4 - 16.4</td>\n",
              "      <td>13.1-15.7</td>\n",
              "      <td>NaN</td>\n",
              "    </tr>\n",
              "    <tr>\n",
              "      <th>9005</th>\n",
              "      <td>Needed Counseling or Therapy But Did Not Get I...</td>\n",
              "      <td>By State</td>\n",
              "      <td>West Virginia</td>\n",
              "      <td>West Virginia</td>\n",
              "      <td>3.3</td>\n",
              "      <td>41</td>\n",
              "      <td>Dec 29, 2021 - Jan 10, 2022</td>\n",
              "      <td>12/29/2021</td>\n",
              "      <td>01/10/2022</td>\n",
              "      <td>12.5</td>\n",
              "      <td>8.9</td>\n",
              "      <td>16.8</td>\n",
              "      <td>8.9 - 16.8</td>\n",
              "      <td>11.7-13.0</td>\n",
              "      <td>NaN</td>\n",
              "    </tr>\n",
              "    <tr>\n",
              "      <th>9006</th>\n",
              "      <td>Needed Counseling or Therapy But Did Not Get I...</td>\n",
              "      <td>By State</td>\n",
              "      <td>Wisconsin</td>\n",
              "      <td>Wisconsin</td>\n",
              "      <td>3.3</td>\n",
              "      <td>41</td>\n",
              "      <td>Dec 29, 2021 - Jan 10, 2022</td>\n",
              "      <td>12/29/2021</td>\n",
              "      <td>01/10/2022</td>\n",
              "      <td>10.0</td>\n",
              "      <td>7.8</td>\n",
              "      <td>12.6</td>\n",
              "      <td>7.8 - 12.6</td>\n",
              "      <td>7.4-10.1</td>\n",
              "      <td>NaN</td>\n",
              "    </tr>\n",
              "    <tr>\n",
              "      <th>9007</th>\n",
              "      <td>Needed Counseling or Therapy But Did Not Get I...</td>\n",
              "      <td>By State</td>\n",
              "      <td>Wyoming</td>\n",
              "      <td>Wyoming</td>\n",
              "      <td>3.3</td>\n",
              "      <td>41</td>\n",
              "      <td>Dec 29, 2021 - Jan 10, 2022</td>\n",
              "      <td>12/29/2021</td>\n",
              "      <td>01/10/2022</td>\n",
              "      <td>13.8</td>\n",
              "      <td>10.4</td>\n",
              "      <td>17.9</td>\n",
              "      <td>10.4 - 17.9</td>\n",
              "      <td>13.1-15.7</td>\n",
              "      <td>NaN</td>\n",
              "    </tr>\n",
              "  </tbody>\n",
              "</table>\n",
              "<p>9008 rows × 15 columns</p>\n",
              "</div>\n",
              "      <button class=\"colab-df-convert\" onclick=\"convertToInteractive('df-9002e2b6-1ed9-44ae-9067-223b36d89bb4')\"\n",
              "              title=\"Convert this dataframe to an interactive table.\"\n",
              "              style=\"display:none;\">\n",
              "        \n",
              "  <svg xmlns=\"http://www.w3.org/2000/svg\" height=\"24px\"viewBox=\"0 0 24 24\"\n",
              "       width=\"24px\">\n",
              "    <path d=\"M0 0h24v24H0V0z\" fill=\"none\"/>\n",
              "    <path d=\"M18.56 5.44l.94 2.06.94-2.06 2.06-.94-2.06-.94-.94-2.06-.94 2.06-2.06.94zm-11 1L8.5 8.5l.94-2.06 2.06-.94-2.06-.94L8.5 2.5l-.94 2.06-2.06.94zm10 10l.94 2.06.94-2.06 2.06-.94-2.06-.94-.94-2.06-.94 2.06-2.06.94z\"/><path d=\"M17.41 7.96l-1.37-1.37c-.4-.4-.92-.59-1.43-.59-.52 0-1.04.2-1.43.59L10.3 9.45l-7.72 7.72c-.78.78-.78 2.05 0 2.83L4 21.41c.39.39.9.59 1.41.59.51 0 1.02-.2 1.41-.59l7.78-7.78 2.81-2.81c.8-.78.8-2.07 0-2.86zM5.41 20L4 18.59l7.72-7.72 1.47 1.35L5.41 20z\"/>\n",
              "  </svg>\n",
              "      </button>\n",
              "      \n",
              "  <style>\n",
              "    .colab-df-container {\n",
              "      display:flex;\n",
              "      flex-wrap:wrap;\n",
              "      gap: 12px;\n",
              "    }\n",
              "\n",
              "    .colab-df-convert {\n",
              "      background-color: #E8F0FE;\n",
              "      border: none;\n",
              "      border-radius: 50%;\n",
              "      cursor: pointer;\n",
              "      display: none;\n",
              "      fill: #1967D2;\n",
              "      height: 32px;\n",
              "      padding: 0 0 0 0;\n",
              "      width: 32px;\n",
              "    }\n",
              "\n",
              "    .colab-df-convert:hover {\n",
              "      background-color: #E2EBFA;\n",
              "      box-shadow: 0px 1px 2px rgba(60, 64, 67, 0.3), 0px 1px 3px 1px rgba(60, 64, 67, 0.15);\n",
              "      fill: #174EA6;\n",
              "    }\n",
              "\n",
              "    [theme=dark] .colab-df-convert {\n",
              "      background-color: #3B4455;\n",
              "      fill: #D2E3FC;\n",
              "    }\n",
              "\n",
              "    [theme=dark] .colab-df-convert:hover {\n",
              "      background-color: #434B5C;\n",
              "      box-shadow: 0px 1px 3px 1px rgba(0, 0, 0, 0.15);\n",
              "      filter: drop-shadow(0px 1px 2px rgba(0, 0, 0, 0.3));\n",
              "      fill: #FFFFFF;\n",
              "    }\n",
              "  </style>\n",
              "\n",
              "      <script>\n",
              "        const buttonEl =\n",
              "          document.querySelector('#df-9002e2b6-1ed9-44ae-9067-223b36d89bb4 button.colab-df-convert');\n",
              "        buttonEl.style.display =\n",
              "          google.colab.kernel.accessAllowed ? 'block' : 'none';\n",
              "\n",
              "        async function convertToInteractive(key) {\n",
              "          const element = document.querySelector('#df-9002e2b6-1ed9-44ae-9067-223b36d89bb4');\n",
              "          const dataTable =\n",
              "            await google.colab.kernel.invokeFunction('convertToInteractive',\n",
              "                                                     [key], {});\n",
              "          if (!dataTable) return;\n",
              "\n",
              "          const docLinkHtml = 'Like what you see? Visit the ' +\n",
              "            '<a target=\"_blank\" href=https://colab.research.google.com/notebooks/data_table.ipynb>data table notebook</a>'\n",
              "            + ' to learn more about interactive tables.';\n",
              "          element.innerHTML = '';\n",
              "          dataTable['output_type'] = 'display_data';\n",
              "          await google.colab.output.renderOutput(dataTable, element);\n",
              "          const docLink = document.createElement('div');\n",
              "          docLink.innerHTML = docLinkHtml;\n",
              "          element.appendChild(docLink);\n",
              "        }\n",
              "      </script>\n",
              "    </div>\n",
              "  </div>\n",
              "  "
            ],
            "text/plain": [
              "                                              Indicator  ... Suppression Flag\n",
              "0     Took Prescription Medication for Mental Health...  ...              NaN\n",
              "1     Took Prescription Medication for Mental Health...  ...              NaN\n",
              "2     Took Prescription Medication for Mental Health...  ...              NaN\n",
              "3     Took Prescription Medication for Mental Health...  ...              NaN\n",
              "4     Took Prescription Medication for Mental Health...  ...              NaN\n",
              "...                                                 ...  ...              ...\n",
              "9003  Needed Counseling or Therapy But Did Not Get I...  ...              NaN\n",
              "9004  Needed Counseling or Therapy But Did Not Get I...  ...              NaN\n",
              "9005  Needed Counseling or Therapy But Did Not Get I...  ...              NaN\n",
              "9006  Needed Counseling or Therapy But Did Not Get I...  ...              NaN\n",
              "9007  Needed Counseling or Therapy But Did Not Get I...  ...              NaN\n",
              "\n",
              "[9008 rows x 15 columns]"
            ]
          },
          "metadata": {},
          "execution_count": 7
        }
      ],
      "source": [
        "#loading dataset\n",
        "mental = pd.read_csv('Mental_Health.csv')\n",
        "mental"
      ]
    },
    {
      "cell_type": "markdown",
      "source": [
        "## 3.Checking the Data"
      ],
      "metadata": {
        "id": "GncaReUIA4ng"
      }
    },
    {
      "cell_type": "code",
      "source": [
        "# Previewing the first 5 rows\n",
        "mental.head()"
      ],
      "metadata": {
        "colab": {
          "base_uri": "https://localhost:8080/",
          "height": 669
        },
        "id": "ug58-gxl1WgH",
        "outputId": "39da5c15-e2e7-440d-83ce-3070829adf27"
      },
      "execution_count": null,
      "outputs": [
        {
          "output_type": "execute_result",
          "data": {
            "text/html": [
              "\n",
              "  <div id=\"df-3a81c265-236d-4e6d-aebf-8ed8dbe88fd2\">\n",
              "    <div class=\"colab-df-container\">\n",
              "      <div>\n",
              "<style scoped>\n",
              "    .dataframe tbody tr th:only-of-type {\n",
              "        vertical-align: middle;\n",
              "    }\n",
              "\n",
              "    .dataframe tbody tr th {\n",
              "        vertical-align: top;\n",
              "    }\n",
              "\n",
              "    .dataframe thead th {\n",
              "        text-align: right;\n",
              "    }\n",
              "</style>\n",
              "<table border=\"1\" class=\"dataframe\">\n",
              "  <thead>\n",
              "    <tr style=\"text-align: right;\">\n",
              "      <th></th>\n",
              "      <th>Indicator</th>\n",
              "      <th>Group</th>\n",
              "      <th>State</th>\n",
              "      <th>Subgroup</th>\n",
              "      <th>Phase</th>\n",
              "      <th>Time Period</th>\n",
              "      <th>Time Period Label</th>\n",
              "      <th>Time Period Start Date</th>\n",
              "      <th>Time Period End Date</th>\n",
              "      <th>Value</th>\n",
              "      <th>LowCI</th>\n",
              "      <th>HighCI</th>\n",
              "      <th>Confidence Interval</th>\n",
              "      <th>Quartile Range</th>\n",
              "      <th>Suppression Flag</th>\n",
              "    </tr>\n",
              "  </thead>\n",
              "  <tbody>\n",
              "    <tr>\n",
              "      <th>0</th>\n",
              "      <td>Took Prescription Medication for Mental Health...</td>\n",
              "      <td>National Estimate</td>\n",
              "      <td>United States</td>\n",
              "      <td>United States</td>\n",
              "      <td>2</td>\n",
              "      <td>13</td>\n",
              "      <td>Aug 19 - Aug 31, 2020</td>\n",
              "      <td>08/19/2020</td>\n",
              "      <td>08/31/2020</td>\n",
              "      <td>19.4</td>\n",
              "      <td>19.0</td>\n",
              "      <td>19.8</td>\n",
              "      <td>19.0 - 19.8</td>\n",
              "      <td>NaN</td>\n",
              "      <td>NaN</td>\n",
              "    </tr>\n",
              "    <tr>\n",
              "      <th>1</th>\n",
              "      <td>Took Prescription Medication for Mental Health...</td>\n",
              "      <td>By Age</td>\n",
              "      <td>United States</td>\n",
              "      <td>18 - 29 years</td>\n",
              "      <td>2</td>\n",
              "      <td>13</td>\n",
              "      <td>Aug 19 - Aug 31, 2020</td>\n",
              "      <td>08/19/2020</td>\n",
              "      <td>08/31/2020</td>\n",
              "      <td>18.7</td>\n",
              "      <td>17.2</td>\n",
              "      <td>20.3</td>\n",
              "      <td>17.2 - 20.3</td>\n",
              "      <td>NaN</td>\n",
              "      <td>NaN</td>\n",
              "    </tr>\n",
              "    <tr>\n",
              "      <th>2</th>\n",
              "      <td>Took Prescription Medication for Mental Health...</td>\n",
              "      <td>By Age</td>\n",
              "      <td>United States</td>\n",
              "      <td>30 - 39 years</td>\n",
              "      <td>2</td>\n",
              "      <td>13</td>\n",
              "      <td>Aug 19 - Aug 31, 2020</td>\n",
              "      <td>08/19/2020</td>\n",
              "      <td>08/31/2020</td>\n",
              "      <td>18.3</td>\n",
              "      <td>17.3</td>\n",
              "      <td>19.2</td>\n",
              "      <td>17.3 - 19.2</td>\n",
              "      <td>NaN</td>\n",
              "      <td>NaN</td>\n",
              "    </tr>\n",
              "    <tr>\n",
              "      <th>3</th>\n",
              "      <td>Took Prescription Medication for Mental Health...</td>\n",
              "      <td>By Age</td>\n",
              "      <td>United States</td>\n",
              "      <td>40 - 49 years</td>\n",
              "      <td>2</td>\n",
              "      <td>13</td>\n",
              "      <td>Aug 19 - Aug 31, 2020</td>\n",
              "      <td>08/19/2020</td>\n",
              "      <td>08/31/2020</td>\n",
              "      <td>20.4</td>\n",
              "      <td>19.5</td>\n",
              "      <td>21.3</td>\n",
              "      <td>19.5 - 21.3</td>\n",
              "      <td>NaN</td>\n",
              "      <td>NaN</td>\n",
              "    </tr>\n",
              "    <tr>\n",
              "      <th>4</th>\n",
              "      <td>Took Prescription Medication for Mental Health...</td>\n",
              "      <td>By Age</td>\n",
              "      <td>United States</td>\n",
              "      <td>50 - 59 years</td>\n",
              "      <td>2</td>\n",
              "      <td>13</td>\n",
              "      <td>Aug 19 - Aug 31, 2020</td>\n",
              "      <td>08/19/2020</td>\n",
              "      <td>08/31/2020</td>\n",
              "      <td>21.2</td>\n",
              "      <td>20.2</td>\n",
              "      <td>22.2</td>\n",
              "      <td>20.2 - 22.2</td>\n",
              "      <td>NaN</td>\n",
              "      <td>NaN</td>\n",
              "    </tr>\n",
              "  </tbody>\n",
              "</table>\n",
              "</div>\n",
              "      <button class=\"colab-df-convert\" onclick=\"convertToInteractive('df-3a81c265-236d-4e6d-aebf-8ed8dbe88fd2')\"\n",
              "              title=\"Convert this dataframe to an interactive table.\"\n",
              "              style=\"display:none;\">\n",
              "        \n",
              "  <svg xmlns=\"http://www.w3.org/2000/svg\" height=\"24px\"viewBox=\"0 0 24 24\"\n",
              "       width=\"24px\">\n",
              "    <path d=\"M0 0h24v24H0V0z\" fill=\"none\"/>\n",
              "    <path d=\"M18.56 5.44l.94 2.06.94-2.06 2.06-.94-2.06-.94-.94-2.06-.94 2.06-2.06.94zm-11 1L8.5 8.5l.94-2.06 2.06-.94-2.06-.94L8.5 2.5l-.94 2.06-2.06.94zm10 10l.94 2.06.94-2.06 2.06-.94-2.06-.94-.94-2.06-.94 2.06-2.06.94z\"/><path d=\"M17.41 7.96l-1.37-1.37c-.4-.4-.92-.59-1.43-.59-.52 0-1.04.2-1.43.59L10.3 9.45l-7.72 7.72c-.78.78-.78 2.05 0 2.83L4 21.41c.39.39.9.59 1.41.59.51 0 1.02-.2 1.41-.59l7.78-7.78 2.81-2.81c.8-.78.8-2.07 0-2.86zM5.41 20L4 18.59l7.72-7.72 1.47 1.35L5.41 20z\"/>\n",
              "  </svg>\n",
              "      </button>\n",
              "      \n",
              "  <style>\n",
              "    .colab-df-container {\n",
              "      display:flex;\n",
              "      flex-wrap:wrap;\n",
              "      gap: 12px;\n",
              "    }\n",
              "\n",
              "    .colab-df-convert {\n",
              "      background-color: #E8F0FE;\n",
              "      border: none;\n",
              "      border-radius: 50%;\n",
              "      cursor: pointer;\n",
              "      display: none;\n",
              "      fill: #1967D2;\n",
              "      height: 32px;\n",
              "      padding: 0 0 0 0;\n",
              "      width: 32px;\n",
              "    }\n",
              "\n",
              "    .colab-df-convert:hover {\n",
              "      background-color: #E2EBFA;\n",
              "      box-shadow: 0px 1px 2px rgba(60, 64, 67, 0.3), 0px 1px 3px 1px rgba(60, 64, 67, 0.15);\n",
              "      fill: #174EA6;\n",
              "    }\n",
              "\n",
              "    [theme=dark] .colab-df-convert {\n",
              "      background-color: #3B4455;\n",
              "      fill: #D2E3FC;\n",
              "    }\n",
              "\n",
              "    [theme=dark] .colab-df-convert:hover {\n",
              "      background-color: #434B5C;\n",
              "      box-shadow: 0px 1px 3px 1px rgba(0, 0, 0, 0.15);\n",
              "      filter: drop-shadow(0px 1px 2px rgba(0, 0, 0, 0.3));\n",
              "      fill: #FFFFFF;\n",
              "    }\n",
              "  </style>\n",
              "\n",
              "      <script>\n",
              "        const buttonEl =\n",
              "          document.querySelector('#df-3a81c265-236d-4e6d-aebf-8ed8dbe88fd2 button.colab-df-convert');\n",
              "        buttonEl.style.display =\n",
              "          google.colab.kernel.accessAllowed ? 'block' : 'none';\n",
              "\n",
              "        async function convertToInteractive(key) {\n",
              "          const element = document.querySelector('#df-3a81c265-236d-4e6d-aebf-8ed8dbe88fd2');\n",
              "          const dataTable =\n",
              "            await google.colab.kernel.invokeFunction('convertToInteractive',\n",
              "                                                     [key], {});\n",
              "          if (!dataTable) return;\n",
              "\n",
              "          const docLinkHtml = 'Like what you see? Visit the ' +\n",
              "            '<a target=\"_blank\" href=https://colab.research.google.com/notebooks/data_table.ipynb>data table notebook</a>'\n",
              "            + ' to learn more about interactive tables.';\n",
              "          element.innerHTML = '';\n",
              "          dataTable['output_type'] = 'display_data';\n",
              "          await google.colab.output.renderOutput(dataTable, element);\n",
              "          const docLink = document.createElement('div');\n",
              "          docLink.innerHTML = docLinkHtml;\n",
              "          element.appendChild(docLink);\n",
              "        }\n",
              "      </script>\n",
              "    </div>\n",
              "  </div>\n",
              "  "
            ],
            "text/plain": [
              "                                           Indicator  ... Suppression Flag\n",
              "0  Took Prescription Medication for Mental Health...  ...              NaN\n",
              "1  Took Prescription Medication for Mental Health...  ...              NaN\n",
              "2  Took Prescription Medication for Mental Health...  ...              NaN\n",
              "3  Took Prescription Medication for Mental Health...  ...              NaN\n",
              "4  Took Prescription Medication for Mental Health...  ...              NaN\n",
              "\n",
              "[5 rows x 15 columns]"
            ]
          },
          "metadata": {},
          "execution_count": 8
        }
      ]
    },
    {
      "cell_type": "code",
      "source": [
        "# Previewing the last 5 rows\n",
        "mental.tail(5)"
      ],
      "metadata": {
        "colab": {
          "base_uri": "https://localhost:8080/",
          "height": 669
        },
        "id": "Y0i5li5X6EmK",
        "outputId": "1f57354e-2d99-4092-bbda-f12aa6b45883"
      },
      "execution_count": null,
      "outputs": [
        {
          "output_type": "execute_result",
          "data": {
            "text/html": [
              "\n",
              "  <div id=\"df-8f88d97c-e72a-42c2-b467-e03af8d69ff1\">\n",
              "    <div class=\"colab-df-container\">\n",
              "      <div>\n",
              "<style scoped>\n",
              "    .dataframe tbody tr th:only-of-type {\n",
              "        vertical-align: middle;\n",
              "    }\n",
              "\n",
              "    .dataframe tbody tr th {\n",
              "        vertical-align: top;\n",
              "    }\n",
              "\n",
              "    .dataframe thead th {\n",
              "        text-align: right;\n",
              "    }\n",
              "</style>\n",
              "<table border=\"1\" class=\"dataframe\">\n",
              "  <thead>\n",
              "    <tr style=\"text-align: right;\">\n",
              "      <th></th>\n",
              "      <th>Indicator</th>\n",
              "      <th>Group</th>\n",
              "      <th>State</th>\n",
              "      <th>Subgroup</th>\n",
              "      <th>Phase</th>\n",
              "      <th>Time Period</th>\n",
              "      <th>Time Period Label</th>\n",
              "      <th>Time Period Start Date</th>\n",
              "      <th>Time Period End Date</th>\n",
              "      <th>Value</th>\n",
              "      <th>LowCI</th>\n",
              "      <th>HighCI</th>\n",
              "      <th>Confidence Interval</th>\n",
              "      <th>Quartile Range</th>\n",
              "      <th>Suppression Flag</th>\n",
              "    </tr>\n",
              "  </thead>\n",
              "  <tbody>\n",
              "    <tr>\n",
              "      <th>9003</th>\n",
              "      <td>Needed Counseling or Therapy But Did Not Get I...</td>\n",
              "      <td>By State</td>\n",
              "      <td>Virginia</td>\n",
              "      <td>Virginia</td>\n",
              "      <td>3.3</td>\n",
              "      <td>41</td>\n",
              "      <td>Dec 29, 2021 - Jan 10, 2022</td>\n",
              "      <td>12/29/2021</td>\n",
              "      <td>01/10/2022</td>\n",
              "      <td>12.9</td>\n",
              "      <td>10.3</td>\n",
              "      <td>15.8</td>\n",
              "      <td>10.3 - 15.8</td>\n",
              "      <td>11.7-13.0</td>\n",
              "      <td>NaN</td>\n",
              "    </tr>\n",
              "    <tr>\n",
              "      <th>9004</th>\n",
              "      <td>Needed Counseling or Therapy But Did Not Get I...</td>\n",
              "      <td>By State</td>\n",
              "      <td>Washington</td>\n",
              "      <td>Washington</td>\n",
              "      <td>3.3</td>\n",
              "      <td>41</td>\n",
              "      <td>Dec 29, 2021 - Jan 10, 2022</td>\n",
              "      <td>12/29/2021</td>\n",
              "      <td>01/10/2022</td>\n",
              "      <td>14.3</td>\n",
              "      <td>12.4</td>\n",
              "      <td>16.4</td>\n",
              "      <td>12.4 - 16.4</td>\n",
              "      <td>13.1-15.7</td>\n",
              "      <td>NaN</td>\n",
              "    </tr>\n",
              "    <tr>\n",
              "      <th>9005</th>\n",
              "      <td>Needed Counseling or Therapy But Did Not Get I...</td>\n",
              "      <td>By State</td>\n",
              "      <td>West Virginia</td>\n",
              "      <td>West Virginia</td>\n",
              "      <td>3.3</td>\n",
              "      <td>41</td>\n",
              "      <td>Dec 29, 2021 - Jan 10, 2022</td>\n",
              "      <td>12/29/2021</td>\n",
              "      <td>01/10/2022</td>\n",
              "      <td>12.5</td>\n",
              "      <td>8.9</td>\n",
              "      <td>16.8</td>\n",
              "      <td>8.9 - 16.8</td>\n",
              "      <td>11.7-13.0</td>\n",
              "      <td>NaN</td>\n",
              "    </tr>\n",
              "    <tr>\n",
              "      <th>9006</th>\n",
              "      <td>Needed Counseling or Therapy But Did Not Get I...</td>\n",
              "      <td>By State</td>\n",
              "      <td>Wisconsin</td>\n",
              "      <td>Wisconsin</td>\n",
              "      <td>3.3</td>\n",
              "      <td>41</td>\n",
              "      <td>Dec 29, 2021 - Jan 10, 2022</td>\n",
              "      <td>12/29/2021</td>\n",
              "      <td>01/10/2022</td>\n",
              "      <td>10.0</td>\n",
              "      <td>7.8</td>\n",
              "      <td>12.6</td>\n",
              "      <td>7.8 - 12.6</td>\n",
              "      <td>7.4-10.1</td>\n",
              "      <td>NaN</td>\n",
              "    </tr>\n",
              "    <tr>\n",
              "      <th>9007</th>\n",
              "      <td>Needed Counseling or Therapy But Did Not Get I...</td>\n",
              "      <td>By State</td>\n",
              "      <td>Wyoming</td>\n",
              "      <td>Wyoming</td>\n",
              "      <td>3.3</td>\n",
              "      <td>41</td>\n",
              "      <td>Dec 29, 2021 - Jan 10, 2022</td>\n",
              "      <td>12/29/2021</td>\n",
              "      <td>01/10/2022</td>\n",
              "      <td>13.8</td>\n",
              "      <td>10.4</td>\n",
              "      <td>17.9</td>\n",
              "      <td>10.4 - 17.9</td>\n",
              "      <td>13.1-15.7</td>\n",
              "      <td>NaN</td>\n",
              "    </tr>\n",
              "  </tbody>\n",
              "</table>\n",
              "</div>\n",
              "      <button class=\"colab-df-convert\" onclick=\"convertToInteractive('df-8f88d97c-e72a-42c2-b467-e03af8d69ff1')\"\n",
              "              title=\"Convert this dataframe to an interactive table.\"\n",
              "              style=\"display:none;\">\n",
              "        \n",
              "  <svg xmlns=\"http://www.w3.org/2000/svg\" height=\"24px\"viewBox=\"0 0 24 24\"\n",
              "       width=\"24px\">\n",
              "    <path d=\"M0 0h24v24H0V0z\" fill=\"none\"/>\n",
              "    <path d=\"M18.56 5.44l.94 2.06.94-2.06 2.06-.94-2.06-.94-.94-2.06-.94 2.06-2.06.94zm-11 1L8.5 8.5l.94-2.06 2.06-.94-2.06-.94L8.5 2.5l-.94 2.06-2.06.94zm10 10l.94 2.06.94-2.06 2.06-.94-2.06-.94-.94-2.06-.94 2.06-2.06.94z\"/><path d=\"M17.41 7.96l-1.37-1.37c-.4-.4-.92-.59-1.43-.59-.52 0-1.04.2-1.43.59L10.3 9.45l-7.72 7.72c-.78.78-.78 2.05 0 2.83L4 21.41c.39.39.9.59 1.41.59.51 0 1.02-.2 1.41-.59l7.78-7.78 2.81-2.81c.8-.78.8-2.07 0-2.86zM5.41 20L4 18.59l7.72-7.72 1.47 1.35L5.41 20z\"/>\n",
              "  </svg>\n",
              "      </button>\n",
              "      \n",
              "  <style>\n",
              "    .colab-df-container {\n",
              "      display:flex;\n",
              "      flex-wrap:wrap;\n",
              "      gap: 12px;\n",
              "    }\n",
              "\n",
              "    .colab-df-convert {\n",
              "      background-color: #E8F0FE;\n",
              "      border: none;\n",
              "      border-radius: 50%;\n",
              "      cursor: pointer;\n",
              "      display: none;\n",
              "      fill: #1967D2;\n",
              "      height: 32px;\n",
              "      padding: 0 0 0 0;\n",
              "      width: 32px;\n",
              "    }\n",
              "\n",
              "    .colab-df-convert:hover {\n",
              "      background-color: #E2EBFA;\n",
              "      box-shadow: 0px 1px 2px rgba(60, 64, 67, 0.3), 0px 1px 3px 1px rgba(60, 64, 67, 0.15);\n",
              "      fill: #174EA6;\n",
              "    }\n",
              "\n",
              "    [theme=dark] .colab-df-convert {\n",
              "      background-color: #3B4455;\n",
              "      fill: #D2E3FC;\n",
              "    }\n",
              "\n",
              "    [theme=dark] .colab-df-convert:hover {\n",
              "      background-color: #434B5C;\n",
              "      box-shadow: 0px 1px 3px 1px rgba(0, 0, 0, 0.15);\n",
              "      filter: drop-shadow(0px 1px 2px rgba(0, 0, 0, 0.3));\n",
              "      fill: #FFFFFF;\n",
              "    }\n",
              "  </style>\n",
              "\n",
              "      <script>\n",
              "        const buttonEl =\n",
              "          document.querySelector('#df-8f88d97c-e72a-42c2-b467-e03af8d69ff1 button.colab-df-convert');\n",
              "        buttonEl.style.display =\n",
              "          google.colab.kernel.accessAllowed ? 'block' : 'none';\n",
              "\n",
              "        async function convertToInteractive(key) {\n",
              "          const element = document.querySelector('#df-8f88d97c-e72a-42c2-b467-e03af8d69ff1');\n",
              "          const dataTable =\n",
              "            await google.colab.kernel.invokeFunction('convertToInteractive',\n",
              "                                                     [key], {});\n",
              "          if (!dataTable) return;\n",
              "\n",
              "          const docLinkHtml = 'Like what you see? Visit the ' +\n",
              "            '<a target=\"_blank\" href=https://colab.research.google.com/notebooks/data_table.ipynb>data table notebook</a>'\n",
              "            + ' to learn more about interactive tables.';\n",
              "          element.innerHTML = '';\n",
              "          dataTable['output_type'] = 'display_data';\n",
              "          await google.colab.output.renderOutput(dataTable, element);\n",
              "          const docLink = document.createElement('div');\n",
              "          docLink.innerHTML = docLinkHtml;\n",
              "          element.appendChild(docLink);\n",
              "        }\n",
              "      </script>\n",
              "    </div>\n",
              "  </div>\n",
              "  "
            ],
            "text/plain": [
              "                                              Indicator  ... Suppression Flag\n",
              "9003  Needed Counseling or Therapy But Did Not Get I...  ...              NaN\n",
              "9004  Needed Counseling or Therapy But Did Not Get I...  ...              NaN\n",
              "9005  Needed Counseling or Therapy But Did Not Get I...  ...              NaN\n",
              "9006  Needed Counseling or Therapy But Did Not Get I...  ...              NaN\n",
              "9007  Needed Counseling or Therapy But Did Not Get I...  ...              NaN\n",
              "\n",
              "[5 rows x 15 columns]"
            ]
          },
          "metadata": {},
          "execution_count": 9
        }
      ]
    },
    {
      "cell_type": "code",
      "source": [
        "# checking for the statistical description\n",
        "mental.describe()"
      ],
      "metadata": {
        "colab": {
          "base_uri": "https://localhost:8080/",
          "height": 300
        },
        "id": "RtC7fzyD17V3",
        "outputId": "3e8afc9e-5dc5-4160-aee2-4b7393362e90"
      },
      "execution_count": null,
      "outputs": [
        {
          "output_type": "execute_result",
          "data": {
            "text/html": [
              "\n",
              "  <div id=\"df-9c75bf5e-c84f-4e9a-b86a-c10ed84b926d\">\n",
              "    <div class=\"colab-df-container\">\n",
              "      <div>\n",
              "<style scoped>\n",
              "    .dataframe tbody tr th:only-of-type {\n",
              "        vertical-align: middle;\n",
              "    }\n",
              "\n",
              "    .dataframe tbody tr th {\n",
              "        vertical-align: top;\n",
              "    }\n",
              "\n",
              "    .dataframe thead th {\n",
              "        text-align: right;\n",
              "    }\n",
              "</style>\n",
              "<table border=\"1\" class=\"dataframe\">\n",
              "  <thead>\n",
              "    <tr style=\"text-align: right;\">\n",
              "      <th></th>\n",
              "      <th>Time Period</th>\n",
              "      <th>Value</th>\n",
              "      <th>LowCI</th>\n",
              "      <th>HighCI</th>\n",
              "      <th>Suppression Flag</th>\n",
              "    </tr>\n",
              "  </thead>\n",
              "  <tbody>\n",
              "    <tr>\n",
              "      <th>count</th>\n",
              "      <td>9008.000000</td>\n",
              "      <td>8635.000000</td>\n",
              "      <td>8635.000000</td>\n",
              "      <td>8635.000000</td>\n",
              "      <td>21.0</td>\n",
              "    </tr>\n",
              "    <tr>\n",
              "      <th>mean</th>\n",
              "      <td>26.301066</td>\n",
              "      <td>17.202061</td>\n",
              "      <td>14.536178</td>\n",
              "      <td>20.220371</td>\n",
              "      <td>1.0</td>\n",
              "    </tr>\n",
              "    <tr>\n",
              "      <th>std</th>\n",
              "      <td>9.705829</td>\n",
              "      <td>8.038749</td>\n",
              "      <td>7.471523</td>\n",
              "      <td>8.778665</td>\n",
              "      <td>0.0</td>\n",
              "    </tr>\n",
              "    <tr>\n",
              "      <th>min</th>\n",
              "      <td>1.000000</td>\n",
              "      <td>1.400000</td>\n",
              "      <td>0.800000</td>\n",
              "      <td>2.000000</td>\n",
              "      <td>1.0</td>\n",
              "    </tr>\n",
              "    <tr>\n",
              "      <th>25%</th>\n",
              "      <td>19.000000</td>\n",
              "      <td>10.200000</td>\n",
              "      <td>7.900000</td>\n",
              "      <td>12.800000</td>\n",
              "      <td>1.0</td>\n",
              "    </tr>\n",
              "    <tr>\n",
              "      <th>50%</th>\n",
              "      <td>27.000000</td>\n",
              "      <td>16.000000</td>\n",
              "      <td>13.700000</td>\n",
              "      <td>19.000000</td>\n",
              "      <td>1.0</td>\n",
              "    </tr>\n",
              "    <tr>\n",
              "      <th>75%</th>\n",
              "      <td>34.000000</td>\n",
              "      <td>23.700000</td>\n",
              "      <td>20.500000</td>\n",
              "      <td>27.100000</td>\n",
              "      <td>1.0</td>\n",
              "    </tr>\n",
              "    <tr>\n",
              "      <th>max</th>\n",
              "      <td>41.000000</td>\n",
              "      <td>56.000000</td>\n",
              "      <td>47.200000</td>\n",
              "      <td>65.900000</td>\n",
              "      <td>1.0</td>\n",
              "    </tr>\n",
              "  </tbody>\n",
              "</table>\n",
              "</div>\n",
              "      <button class=\"colab-df-convert\" onclick=\"convertToInteractive('df-9c75bf5e-c84f-4e9a-b86a-c10ed84b926d')\"\n",
              "              title=\"Convert this dataframe to an interactive table.\"\n",
              "              style=\"display:none;\">\n",
              "        \n",
              "  <svg xmlns=\"http://www.w3.org/2000/svg\" height=\"24px\"viewBox=\"0 0 24 24\"\n",
              "       width=\"24px\">\n",
              "    <path d=\"M0 0h24v24H0V0z\" fill=\"none\"/>\n",
              "    <path d=\"M18.56 5.44l.94 2.06.94-2.06 2.06-.94-2.06-.94-.94-2.06-.94 2.06-2.06.94zm-11 1L8.5 8.5l.94-2.06 2.06-.94-2.06-.94L8.5 2.5l-.94 2.06-2.06.94zm10 10l.94 2.06.94-2.06 2.06-.94-2.06-.94-.94-2.06-.94 2.06-2.06.94z\"/><path d=\"M17.41 7.96l-1.37-1.37c-.4-.4-.92-.59-1.43-.59-.52 0-1.04.2-1.43.59L10.3 9.45l-7.72 7.72c-.78.78-.78 2.05 0 2.83L4 21.41c.39.39.9.59 1.41.59.51 0 1.02-.2 1.41-.59l7.78-7.78 2.81-2.81c.8-.78.8-2.07 0-2.86zM5.41 20L4 18.59l7.72-7.72 1.47 1.35L5.41 20z\"/>\n",
              "  </svg>\n",
              "      </button>\n",
              "      \n",
              "  <style>\n",
              "    .colab-df-container {\n",
              "      display:flex;\n",
              "      flex-wrap:wrap;\n",
              "      gap: 12px;\n",
              "    }\n",
              "\n",
              "    .colab-df-convert {\n",
              "      background-color: #E8F0FE;\n",
              "      border: none;\n",
              "      border-radius: 50%;\n",
              "      cursor: pointer;\n",
              "      display: none;\n",
              "      fill: #1967D2;\n",
              "      height: 32px;\n",
              "      padding: 0 0 0 0;\n",
              "      width: 32px;\n",
              "    }\n",
              "\n",
              "    .colab-df-convert:hover {\n",
              "      background-color: #E2EBFA;\n",
              "      box-shadow: 0px 1px 2px rgba(60, 64, 67, 0.3), 0px 1px 3px 1px rgba(60, 64, 67, 0.15);\n",
              "      fill: #174EA6;\n",
              "    }\n",
              "\n",
              "    [theme=dark] .colab-df-convert {\n",
              "      background-color: #3B4455;\n",
              "      fill: #D2E3FC;\n",
              "    }\n",
              "\n",
              "    [theme=dark] .colab-df-convert:hover {\n",
              "      background-color: #434B5C;\n",
              "      box-shadow: 0px 1px 3px 1px rgba(0, 0, 0, 0.15);\n",
              "      filter: drop-shadow(0px 1px 2px rgba(0, 0, 0, 0.3));\n",
              "      fill: #FFFFFF;\n",
              "    }\n",
              "  </style>\n",
              "\n",
              "      <script>\n",
              "        const buttonEl =\n",
              "          document.querySelector('#df-9c75bf5e-c84f-4e9a-b86a-c10ed84b926d button.colab-df-convert');\n",
              "        buttonEl.style.display =\n",
              "          google.colab.kernel.accessAllowed ? 'block' : 'none';\n",
              "\n",
              "        async function convertToInteractive(key) {\n",
              "          const element = document.querySelector('#df-9c75bf5e-c84f-4e9a-b86a-c10ed84b926d');\n",
              "          const dataTable =\n",
              "            await google.colab.kernel.invokeFunction('convertToInteractive',\n",
              "                                                     [key], {});\n",
              "          if (!dataTable) return;\n",
              "\n",
              "          const docLinkHtml = 'Like what you see? Visit the ' +\n",
              "            '<a target=\"_blank\" href=https://colab.research.google.com/notebooks/data_table.ipynb>data table notebook</a>'\n",
              "            + ' to learn more about interactive tables.';\n",
              "          element.innerHTML = '';\n",
              "          dataTable['output_type'] = 'display_data';\n",
              "          await google.colab.output.renderOutput(dataTable, element);\n",
              "          const docLink = document.createElement('div');\n",
              "          docLink.innerHTML = docLinkHtml;\n",
              "          element.appendChild(docLink);\n",
              "        }\n",
              "      </script>\n",
              "    </div>\n",
              "  </div>\n",
              "  "
            ],
            "text/plain": [
              "       Time Period        Value        LowCI       HighCI  Suppression Flag\n",
              "count  9008.000000  8635.000000  8635.000000  8635.000000              21.0\n",
              "mean     26.301066    17.202061    14.536178    20.220371               1.0\n",
              "std       9.705829     8.038749     7.471523     8.778665               0.0\n",
              "min       1.000000     1.400000     0.800000     2.000000               1.0\n",
              "25%      19.000000    10.200000     7.900000    12.800000               1.0\n",
              "50%      27.000000    16.000000    13.700000    19.000000               1.0\n",
              "75%      34.000000    23.700000    20.500000    27.100000               1.0\n",
              "max      41.000000    56.000000    47.200000    65.900000               1.0"
            ]
          },
          "metadata": {},
          "execution_count": 10
        }
      ]
    },
    {
      "cell_type": "code",
      "execution_count": null,
      "metadata": {
        "colab": {
          "base_uri": "https://localhost:8080/"
        },
        "id": "PLXge4Ycn0-S",
        "outputId": "fde1c5d4-d0ff-431c-aedc-926e532eca2b"
      },
      "outputs": [
        {
          "output_type": "execute_result",
          "data": {
            "text/plain": [
              "array(['National Estimate', 'By Age', 'By Sex',\n",
              "       'By Presence of Symptoms of Anxiety/Depression',\n",
              "       'By Race/Hispanic ethnicity', 'By Education', 'By State',\n",
              "       'By Disability status', 'By Gender identity',\n",
              "       'By Sexual orientation'], dtype=object)"
            ]
          },
          "metadata": {},
          "execution_count": 11
        }
      ],
      "source": [
        "#checking for unique values in the group column\n",
        "mental['Group'].unique()"
      ]
    },
    {
      "cell_type": "code",
      "execution_count": null,
      "metadata": {
        "colab": {
          "base_uri": "https://localhost:8080/"
        },
        "id": "LbFjMsKno65h",
        "outputId": "1c2119bf-3026-4e3a-abdb-94c1a5e4208c"
      },
      "outputs": [
        {
          "output_type": "execute_result",
          "data": {
            "text/plain": [
              "array(['2', '3 (Oct 28 � Dec 21)', '-1', '3 (Jan 6 � Mar 29)', '3.1',\n",
              "       '3.2', '3.3'], dtype=object)"
            ]
          },
          "metadata": {},
          "execution_count": 12
        }
      ],
      "source": [
        "#checking for unique values in the phase column\n",
        "mental['Phase'].unique()"
      ]
    },
    {
      "cell_type": "code",
      "execution_count": null,
      "metadata": {
        "colab": {
          "base_uri": "https://localhost:8080/"
        },
        "id": "spPU9y9IpGYP",
        "outputId": "b1cf3ebb-aca6-487c-d145-945d91cf751a"
      },
      "outputs": [
        {
          "output_type": "execute_result",
          "data": {
            "text/plain": [
              "array(['United States', '18 - 29 years', '30 - 39 years', '40 - 49 years',\n",
              "       '50 - 59 years', '60 - 69 years', '70 - 79 years',\n",
              "       '80 years and above', 'Male', 'Female',\n",
              "       'Did not experience symptoms of anxiety/depression in the past 4 weeks',\n",
              "       'Experienced symptoms of anxiety/depression in past 4 weeks',\n",
              "       'Hispanic or Latino', 'Non-Hispanic White, single race',\n",
              "       'Non-Hispanic Black, single race',\n",
              "       'Non-Hispanic Asian, single race',\n",
              "       'Non-Hispanic, other races and multiple races',\n",
              "       'Less than a high school diploma', 'High school diploma or GED',\n",
              "       \"Some college/Associate's degree\", \"Bachelor's degree or higher\",\n",
              "       'Alabama', 'Alaska', 'Arizona', 'Arkansas', 'California',\n",
              "       'Colorado', 'Connecticut', 'Delaware', 'District of Columbia',\n",
              "       'Florida', 'Georgia', 'Hawaii', 'Idaho', 'Illinois', 'Indiana',\n",
              "       'Iowa', 'Kansas', 'Kentucky', 'Louisiana', 'Maine', 'Maryland',\n",
              "       'Massachusetts', 'Michigan', 'Minnesota', 'Mississippi',\n",
              "       'Missouri', 'Montana', 'Nebraska', 'Nevada', 'New Hampshire',\n",
              "       'New Jersey', 'New Mexico', 'New York', 'North Carolina',\n",
              "       'North Dakota', 'Ohio', 'Oklahoma', 'Oregon', 'Pennsylvania',\n",
              "       'Rhode Island', 'South Carolina', 'South Dakota', 'Tennessee',\n",
              "       'Texas', 'Utah', 'Vermont', 'Virginia', 'Washington',\n",
              "       'West Virginia', 'Wisconsin', 'Wyoming', 'With disability',\n",
              "       'Without disability', 'Cis-gender male', 'Cis-gender female',\n",
              "       'Transgender', 'Gay or lesbian', 'Straight', 'Bisexual'],\n",
              "      dtype=object)"
            ]
          },
          "metadata": {},
          "execution_count": 13
        }
      ],
      "source": [
        "#checking for unique values in the subgroup column\n",
        "mental['Subgroup'].unique()"
      ]
    },
    {
      "cell_type": "code",
      "execution_count": null,
      "metadata": {
        "colab": {
          "base_uri": "https://localhost:8080/"
        },
        "id": "qFyZJOMLnZYj",
        "outputId": "c361a3aa-982e-4a72-f577-615095c5304a"
      },
      "outputs": [
        {
          "output_type": "execute_result",
          "data": {
            "text/plain": [
              "Index(['Indicator', 'Group', 'State', 'Subgroup', 'Phase', 'Time Period',\n",
              "       'Time Period Label', 'Time Period Start Date', 'Time Period End Date',\n",
              "       'Value', 'LowCI', 'HighCI', 'Confidence Interval', 'Quartile Range',\n",
              "       'Suppression Flag'],\n",
              "      dtype='object')"
            ]
          },
          "metadata": {},
          "execution_count": 14
        }
      ],
      "source": [
        "#checking for column details\n",
        "mental.columns"
      ]
    },
    {
      "cell_type": "code",
      "execution_count": null,
      "metadata": {
        "colab": {
          "base_uri": "https://localhost:8080/"
        },
        "id": "4C2EgP8wjPTF",
        "outputId": "3cfe3772-d9a8-4e01-a55d-48daf908cd60"
      },
      "outputs": [
        {
          "output_type": "execute_result",
          "data": {
            "text/plain": [
              "(9008, 15)"
            ]
          },
          "metadata": {},
          "execution_count": 15
        }
      ],
      "source": [
        "#checking for details of the dataset\n",
        "mental.shape"
      ]
    },
    {
      "cell_type": "markdown",
      "metadata": {
        "id": "MTNnjA3qr0vw"
      },
      "source": [
        "The dataset has 9008 rows and 15 columns"
      ]
    },
    {
      "cell_type": "markdown",
      "source": [
        "## 4. External Data Source Validation"
      ],
      "metadata": {
        "id": "wMbpuiK36k8R"
      }
    },
    {
      "cell_type": "markdown",
      "source": [
        "> Making sure your data matches something outside of the dataset is very important. It allows you to ensure that the measurements are roughly in line with what they should be and it serves as a check on what other things might be wrong in your dataset. External validation can often be as simple as checking your data against a single number."
      ],
      "metadata": {
        "id": "MeCvuNvh6xPY"
      }
    },
    {
      "cell_type": "markdown",
      "metadata": {
        "id": "xCgD_lmniNaD"
      },
      "source": [
        "#4.Data Cleaning"
      ]
    },
    {
      "cell_type": "code",
      "execution_count": null,
      "metadata": {
        "colab": {
          "base_uri": "https://localhost:8080/"
        },
        "id": "6XhHku49jdzs",
        "outputId": "dbc4d93a-bcd1-4333-8f2b-c25e2fe0cce6"
      },
      "outputs": [
        {
          "output_type": "execute_result",
          "data": {
            "text/plain": [
              "Indicator                    0\n",
              "Group                        0\n",
              "State                        0\n",
              "Subgroup                     0\n",
              "Phase                        0\n",
              "Time Period                  0\n",
              "Time Period Label            0\n",
              "Time Period Start Date       0\n",
              "Time Period End Date         0\n",
              "Value                      373\n",
              "LowCI                      373\n",
              "HighCI                     373\n",
              "Confidence Interval        373\n",
              "Quartile Range            3092\n",
              "Suppression Flag          8987\n",
              "dtype: int64"
            ]
          },
          "metadata": {},
          "execution_count": 16
        }
      ],
      "source": [
        "#checking for null values in the dataset\n",
        "mental.isnull().sum()\n"
      ]
    },
    {
      "cell_type": "code",
      "source": [
        "mental.drop(['Confidence Interval', 'Quartile Range', 'Time Period Start Date', 'Time Period End Date', 'Suppression Flag', 'Phase', 'Time Period', 'Time Period Label'], axis = 1, inplace = True)\n",
        "mental"
      ],
      "metadata": {
        "colab": {
          "base_uri": "https://localhost:8080/",
          "height": 424
        },
        "id": "GZRTcxYDi31F",
        "outputId": "68a75e44-dc97-4451-81f1-514fb90cb85b"
      },
      "execution_count": null,
      "outputs": [
        {
          "output_type": "execute_result",
          "data": {
            "text/html": [
              "\n",
              "  <div id=\"df-625d626e-89fc-492f-8fa9-5d3dbe5e3a8e\">\n",
              "    <div class=\"colab-df-container\">\n",
              "      <div>\n",
              "<style scoped>\n",
              "    .dataframe tbody tr th:only-of-type {\n",
              "        vertical-align: middle;\n",
              "    }\n",
              "\n",
              "    .dataframe tbody tr th {\n",
              "        vertical-align: top;\n",
              "    }\n",
              "\n",
              "    .dataframe thead th {\n",
              "        text-align: right;\n",
              "    }\n",
              "</style>\n",
              "<table border=\"1\" class=\"dataframe\">\n",
              "  <thead>\n",
              "    <tr style=\"text-align: right;\">\n",
              "      <th></th>\n",
              "      <th>Indicator</th>\n",
              "      <th>Group</th>\n",
              "      <th>State</th>\n",
              "      <th>Subgroup</th>\n",
              "      <th>Value</th>\n",
              "      <th>LowCI</th>\n",
              "      <th>HighCI</th>\n",
              "    </tr>\n",
              "  </thead>\n",
              "  <tbody>\n",
              "    <tr>\n",
              "      <th>0</th>\n",
              "      <td>Took Prescription Medication for Mental Health...</td>\n",
              "      <td>National Estimate</td>\n",
              "      <td>United States</td>\n",
              "      <td>United States</td>\n",
              "      <td>19.4</td>\n",
              "      <td>19.0</td>\n",
              "      <td>19.8</td>\n",
              "    </tr>\n",
              "    <tr>\n",
              "      <th>1</th>\n",
              "      <td>Took Prescription Medication for Mental Health...</td>\n",
              "      <td>By Age</td>\n",
              "      <td>United States</td>\n",
              "      <td>18 - 29 years</td>\n",
              "      <td>18.7</td>\n",
              "      <td>17.2</td>\n",
              "      <td>20.3</td>\n",
              "    </tr>\n",
              "    <tr>\n",
              "      <th>2</th>\n",
              "      <td>Took Prescription Medication for Mental Health...</td>\n",
              "      <td>By Age</td>\n",
              "      <td>United States</td>\n",
              "      <td>30 - 39 years</td>\n",
              "      <td>18.3</td>\n",
              "      <td>17.3</td>\n",
              "      <td>19.2</td>\n",
              "    </tr>\n",
              "    <tr>\n",
              "      <th>3</th>\n",
              "      <td>Took Prescription Medication for Mental Health...</td>\n",
              "      <td>By Age</td>\n",
              "      <td>United States</td>\n",
              "      <td>40 - 49 years</td>\n",
              "      <td>20.4</td>\n",
              "      <td>19.5</td>\n",
              "      <td>21.3</td>\n",
              "    </tr>\n",
              "    <tr>\n",
              "      <th>4</th>\n",
              "      <td>Took Prescription Medication for Mental Health...</td>\n",
              "      <td>By Age</td>\n",
              "      <td>United States</td>\n",
              "      <td>50 - 59 years</td>\n",
              "      <td>21.2</td>\n",
              "      <td>20.2</td>\n",
              "      <td>22.2</td>\n",
              "    </tr>\n",
              "    <tr>\n",
              "      <th>...</th>\n",
              "      <td>...</td>\n",
              "      <td>...</td>\n",
              "      <td>...</td>\n",
              "      <td>...</td>\n",
              "      <td>...</td>\n",
              "      <td>...</td>\n",
              "      <td>...</td>\n",
              "    </tr>\n",
              "    <tr>\n",
              "      <th>9003</th>\n",
              "      <td>Needed Counseling or Therapy But Did Not Get I...</td>\n",
              "      <td>By State</td>\n",
              "      <td>Virginia</td>\n",
              "      <td>Virginia</td>\n",
              "      <td>12.9</td>\n",
              "      <td>10.3</td>\n",
              "      <td>15.8</td>\n",
              "    </tr>\n",
              "    <tr>\n",
              "      <th>9004</th>\n",
              "      <td>Needed Counseling or Therapy But Did Not Get I...</td>\n",
              "      <td>By State</td>\n",
              "      <td>Washington</td>\n",
              "      <td>Washington</td>\n",
              "      <td>14.3</td>\n",
              "      <td>12.4</td>\n",
              "      <td>16.4</td>\n",
              "    </tr>\n",
              "    <tr>\n",
              "      <th>9005</th>\n",
              "      <td>Needed Counseling or Therapy But Did Not Get I...</td>\n",
              "      <td>By State</td>\n",
              "      <td>West Virginia</td>\n",
              "      <td>West Virginia</td>\n",
              "      <td>12.5</td>\n",
              "      <td>8.9</td>\n",
              "      <td>16.8</td>\n",
              "    </tr>\n",
              "    <tr>\n",
              "      <th>9006</th>\n",
              "      <td>Needed Counseling or Therapy But Did Not Get I...</td>\n",
              "      <td>By State</td>\n",
              "      <td>Wisconsin</td>\n",
              "      <td>Wisconsin</td>\n",
              "      <td>10.0</td>\n",
              "      <td>7.8</td>\n",
              "      <td>12.6</td>\n",
              "    </tr>\n",
              "    <tr>\n",
              "      <th>9007</th>\n",
              "      <td>Needed Counseling or Therapy But Did Not Get I...</td>\n",
              "      <td>By State</td>\n",
              "      <td>Wyoming</td>\n",
              "      <td>Wyoming</td>\n",
              "      <td>13.8</td>\n",
              "      <td>10.4</td>\n",
              "      <td>17.9</td>\n",
              "    </tr>\n",
              "  </tbody>\n",
              "</table>\n",
              "<p>9008 rows × 7 columns</p>\n",
              "</div>\n",
              "      <button class=\"colab-df-convert\" onclick=\"convertToInteractive('df-625d626e-89fc-492f-8fa9-5d3dbe5e3a8e')\"\n",
              "              title=\"Convert this dataframe to an interactive table.\"\n",
              "              style=\"display:none;\">\n",
              "        \n",
              "  <svg xmlns=\"http://www.w3.org/2000/svg\" height=\"24px\"viewBox=\"0 0 24 24\"\n",
              "       width=\"24px\">\n",
              "    <path d=\"M0 0h24v24H0V0z\" fill=\"none\"/>\n",
              "    <path d=\"M18.56 5.44l.94 2.06.94-2.06 2.06-.94-2.06-.94-.94-2.06-.94 2.06-2.06.94zm-11 1L8.5 8.5l.94-2.06 2.06-.94-2.06-.94L8.5 2.5l-.94 2.06-2.06.94zm10 10l.94 2.06.94-2.06 2.06-.94-2.06-.94-.94-2.06-.94 2.06-2.06.94z\"/><path d=\"M17.41 7.96l-1.37-1.37c-.4-.4-.92-.59-1.43-.59-.52 0-1.04.2-1.43.59L10.3 9.45l-7.72 7.72c-.78.78-.78 2.05 0 2.83L4 21.41c.39.39.9.59 1.41.59.51 0 1.02-.2 1.41-.59l7.78-7.78 2.81-2.81c.8-.78.8-2.07 0-2.86zM5.41 20L4 18.59l7.72-7.72 1.47 1.35L5.41 20z\"/>\n",
              "  </svg>\n",
              "      </button>\n",
              "      \n",
              "  <style>\n",
              "    .colab-df-container {\n",
              "      display:flex;\n",
              "      flex-wrap:wrap;\n",
              "      gap: 12px;\n",
              "    }\n",
              "\n",
              "    .colab-df-convert {\n",
              "      background-color: #E8F0FE;\n",
              "      border: none;\n",
              "      border-radius: 50%;\n",
              "      cursor: pointer;\n",
              "      display: none;\n",
              "      fill: #1967D2;\n",
              "      height: 32px;\n",
              "      padding: 0 0 0 0;\n",
              "      width: 32px;\n",
              "    }\n",
              "\n",
              "    .colab-df-convert:hover {\n",
              "      background-color: #E2EBFA;\n",
              "      box-shadow: 0px 1px 2px rgba(60, 64, 67, 0.3), 0px 1px 3px 1px rgba(60, 64, 67, 0.15);\n",
              "      fill: #174EA6;\n",
              "    }\n",
              "\n",
              "    [theme=dark] .colab-df-convert {\n",
              "      background-color: #3B4455;\n",
              "      fill: #D2E3FC;\n",
              "    }\n",
              "\n",
              "    [theme=dark] .colab-df-convert:hover {\n",
              "      background-color: #434B5C;\n",
              "      box-shadow: 0px 1px 3px 1px rgba(0, 0, 0, 0.15);\n",
              "      filter: drop-shadow(0px 1px 2px rgba(0, 0, 0, 0.3));\n",
              "      fill: #FFFFFF;\n",
              "    }\n",
              "  </style>\n",
              "\n",
              "      <script>\n",
              "        const buttonEl =\n",
              "          document.querySelector('#df-625d626e-89fc-492f-8fa9-5d3dbe5e3a8e button.colab-df-convert');\n",
              "        buttonEl.style.display =\n",
              "          google.colab.kernel.accessAllowed ? 'block' : 'none';\n",
              "\n",
              "        async function convertToInteractive(key) {\n",
              "          const element = document.querySelector('#df-625d626e-89fc-492f-8fa9-5d3dbe5e3a8e');\n",
              "          const dataTable =\n",
              "            await google.colab.kernel.invokeFunction('convertToInteractive',\n",
              "                                                     [key], {});\n",
              "          if (!dataTable) return;\n",
              "\n",
              "          const docLinkHtml = 'Like what you see? Visit the ' +\n",
              "            '<a target=\"_blank\" href=https://colab.research.google.com/notebooks/data_table.ipynb>data table notebook</a>'\n",
              "            + ' to learn more about interactive tables.';\n",
              "          element.innerHTML = '';\n",
              "          dataTable['output_type'] = 'display_data';\n",
              "          await google.colab.output.renderOutput(dataTable, element);\n",
              "          const docLink = document.createElement('div');\n",
              "          docLink.innerHTML = docLinkHtml;\n",
              "          element.appendChild(docLink);\n",
              "        }\n",
              "      </script>\n",
              "    </div>\n",
              "  </div>\n",
              "  "
            ],
            "text/plain": [
              "                                              Indicator  ... HighCI\n",
              "0     Took Prescription Medication for Mental Health...  ...   19.8\n",
              "1     Took Prescription Medication for Mental Health...  ...   20.3\n",
              "2     Took Prescription Medication for Mental Health...  ...   19.2\n",
              "3     Took Prescription Medication for Mental Health...  ...   21.3\n",
              "4     Took Prescription Medication for Mental Health...  ...   22.2\n",
              "...                                                 ...  ...    ...\n",
              "9003  Needed Counseling or Therapy But Did Not Get I...  ...   15.8\n",
              "9004  Needed Counseling or Therapy But Did Not Get I...  ...   16.4\n",
              "9005  Needed Counseling or Therapy But Did Not Get I...  ...   16.8\n",
              "9006  Needed Counseling or Therapy But Did Not Get I...  ...   12.6\n",
              "9007  Needed Counseling or Therapy But Did Not Get I...  ...   17.9\n",
              "\n",
              "[9008 rows x 7 columns]"
            ]
          },
          "metadata": {},
          "execution_count": 17
        }
      ]
    },
    {
      "cell_type": "markdown",
      "source": [
        "We dropped this columns since we did not need them for our analysis"
      ],
      "metadata": {
        "id": "7wy87GDKAjls"
      }
    },
    {
      "cell_type": "code",
      "source": [
        "mental.head(5)"
      ],
      "metadata": {
        "colab": {
          "base_uri": "https://localhost:8080/",
          "height": 206
        },
        "id": "ZfERBaapjWux",
        "outputId": "27080c92-0fcf-4f50-d4b1-09d540ab224c"
      },
      "execution_count": null,
      "outputs": [
        {
          "output_type": "execute_result",
          "data": {
            "text/html": [
              "\n",
              "  <div id=\"df-cf84368c-f87b-4777-913b-5f28e2cda1a6\">\n",
              "    <div class=\"colab-df-container\">\n",
              "      <div>\n",
              "<style scoped>\n",
              "    .dataframe tbody tr th:only-of-type {\n",
              "        vertical-align: middle;\n",
              "    }\n",
              "\n",
              "    .dataframe tbody tr th {\n",
              "        vertical-align: top;\n",
              "    }\n",
              "\n",
              "    .dataframe thead th {\n",
              "        text-align: right;\n",
              "    }\n",
              "</style>\n",
              "<table border=\"1\" class=\"dataframe\">\n",
              "  <thead>\n",
              "    <tr style=\"text-align: right;\">\n",
              "      <th></th>\n",
              "      <th>Indicator</th>\n",
              "      <th>Group</th>\n",
              "      <th>State</th>\n",
              "      <th>Subgroup</th>\n",
              "      <th>Value</th>\n",
              "      <th>LowCI</th>\n",
              "      <th>HighCI</th>\n",
              "    </tr>\n",
              "  </thead>\n",
              "  <tbody>\n",
              "    <tr>\n",
              "      <th>0</th>\n",
              "      <td>Took Prescription Medication for Mental Health...</td>\n",
              "      <td>National Estimate</td>\n",
              "      <td>United States</td>\n",
              "      <td>United States</td>\n",
              "      <td>19.4</td>\n",
              "      <td>19.0</td>\n",
              "      <td>19.8</td>\n",
              "    </tr>\n",
              "    <tr>\n",
              "      <th>1</th>\n",
              "      <td>Took Prescription Medication for Mental Health...</td>\n",
              "      <td>By Age</td>\n",
              "      <td>United States</td>\n",
              "      <td>18 - 29 years</td>\n",
              "      <td>18.7</td>\n",
              "      <td>17.2</td>\n",
              "      <td>20.3</td>\n",
              "    </tr>\n",
              "    <tr>\n",
              "      <th>2</th>\n",
              "      <td>Took Prescription Medication for Mental Health...</td>\n",
              "      <td>By Age</td>\n",
              "      <td>United States</td>\n",
              "      <td>30 - 39 years</td>\n",
              "      <td>18.3</td>\n",
              "      <td>17.3</td>\n",
              "      <td>19.2</td>\n",
              "    </tr>\n",
              "    <tr>\n",
              "      <th>3</th>\n",
              "      <td>Took Prescription Medication for Mental Health...</td>\n",
              "      <td>By Age</td>\n",
              "      <td>United States</td>\n",
              "      <td>40 - 49 years</td>\n",
              "      <td>20.4</td>\n",
              "      <td>19.5</td>\n",
              "      <td>21.3</td>\n",
              "    </tr>\n",
              "    <tr>\n",
              "      <th>4</th>\n",
              "      <td>Took Prescription Medication for Mental Health...</td>\n",
              "      <td>By Age</td>\n",
              "      <td>United States</td>\n",
              "      <td>50 - 59 years</td>\n",
              "      <td>21.2</td>\n",
              "      <td>20.2</td>\n",
              "      <td>22.2</td>\n",
              "    </tr>\n",
              "  </tbody>\n",
              "</table>\n",
              "</div>\n",
              "      <button class=\"colab-df-convert\" onclick=\"convertToInteractive('df-cf84368c-f87b-4777-913b-5f28e2cda1a6')\"\n",
              "              title=\"Convert this dataframe to an interactive table.\"\n",
              "              style=\"display:none;\">\n",
              "        \n",
              "  <svg xmlns=\"http://www.w3.org/2000/svg\" height=\"24px\"viewBox=\"0 0 24 24\"\n",
              "       width=\"24px\">\n",
              "    <path d=\"M0 0h24v24H0V0z\" fill=\"none\"/>\n",
              "    <path d=\"M18.56 5.44l.94 2.06.94-2.06 2.06-.94-2.06-.94-.94-2.06-.94 2.06-2.06.94zm-11 1L8.5 8.5l.94-2.06 2.06-.94-2.06-.94L8.5 2.5l-.94 2.06-2.06.94zm10 10l.94 2.06.94-2.06 2.06-.94-2.06-.94-.94-2.06-.94 2.06-2.06.94z\"/><path d=\"M17.41 7.96l-1.37-1.37c-.4-.4-.92-.59-1.43-.59-.52 0-1.04.2-1.43.59L10.3 9.45l-7.72 7.72c-.78.78-.78 2.05 0 2.83L4 21.41c.39.39.9.59 1.41.59.51 0 1.02-.2 1.41-.59l7.78-7.78 2.81-2.81c.8-.78.8-2.07 0-2.86zM5.41 20L4 18.59l7.72-7.72 1.47 1.35L5.41 20z\"/>\n",
              "  </svg>\n",
              "      </button>\n",
              "      \n",
              "  <style>\n",
              "    .colab-df-container {\n",
              "      display:flex;\n",
              "      flex-wrap:wrap;\n",
              "      gap: 12px;\n",
              "    }\n",
              "\n",
              "    .colab-df-convert {\n",
              "      background-color: #E8F0FE;\n",
              "      border: none;\n",
              "      border-radius: 50%;\n",
              "      cursor: pointer;\n",
              "      display: none;\n",
              "      fill: #1967D2;\n",
              "      height: 32px;\n",
              "      padding: 0 0 0 0;\n",
              "      width: 32px;\n",
              "    }\n",
              "\n",
              "    .colab-df-convert:hover {\n",
              "      background-color: #E2EBFA;\n",
              "      box-shadow: 0px 1px 2px rgba(60, 64, 67, 0.3), 0px 1px 3px 1px rgba(60, 64, 67, 0.15);\n",
              "      fill: #174EA6;\n",
              "    }\n",
              "\n",
              "    [theme=dark] .colab-df-convert {\n",
              "      background-color: #3B4455;\n",
              "      fill: #D2E3FC;\n",
              "    }\n",
              "\n",
              "    [theme=dark] .colab-df-convert:hover {\n",
              "      background-color: #434B5C;\n",
              "      box-shadow: 0px 1px 3px 1px rgba(0, 0, 0, 0.15);\n",
              "      filter: drop-shadow(0px 1px 2px rgba(0, 0, 0, 0.3));\n",
              "      fill: #FFFFFF;\n",
              "    }\n",
              "  </style>\n",
              "\n",
              "      <script>\n",
              "        const buttonEl =\n",
              "          document.querySelector('#df-cf84368c-f87b-4777-913b-5f28e2cda1a6 button.colab-df-convert');\n",
              "        buttonEl.style.display =\n",
              "          google.colab.kernel.accessAllowed ? 'block' : 'none';\n",
              "\n",
              "        async function convertToInteractive(key) {\n",
              "          const element = document.querySelector('#df-cf84368c-f87b-4777-913b-5f28e2cda1a6');\n",
              "          const dataTable =\n",
              "            await google.colab.kernel.invokeFunction('convertToInteractive',\n",
              "                                                     [key], {});\n",
              "          if (!dataTable) return;\n",
              "\n",
              "          const docLinkHtml = 'Like what you see? Visit the ' +\n",
              "            '<a target=\"_blank\" href=https://colab.research.google.com/notebooks/data_table.ipynb>data table notebook</a>'\n",
              "            + ' to learn more about interactive tables.';\n",
              "          element.innerHTML = '';\n",
              "          dataTable['output_type'] = 'display_data';\n",
              "          await google.colab.output.renderOutput(dataTable, element);\n",
              "          const docLink = document.createElement('div');\n",
              "          docLink.innerHTML = docLinkHtml;\n",
              "          element.appendChild(docLink);\n",
              "        }\n",
              "      </script>\n",
              "    </div>\n",
              "  </div>\n",
              "  "
            ],
            "text/plain": [
              "                                           Indicator  ... HighCI\n",
              "0  Took Prescription Medication for Mental Health...  ...   19.8\n",
              "1  Took Prescription Medication for Mental Health...  ...   20.3\n",
              "2  Took Prescription Medication for Mental Health...  ...   19.2\n",
              "3  Took Prescription Medication for Mental Health...  ...   21.3\n",
              "4  Took Prescription Medication for Mental Health...  ...   22.2\n",
              "\n",
              "[5 rows x 7 columns]"
            ]
          },
          "metadata": {},
          "execution_count": 18
        }
      ]
    },
    {
      "cell_type": "code",
      "execution_count": null,
      "metadata": {
        "colab": {
          "base_uri": "https://localhost:8080/"
        },
        "id": "bCCiUtd_i7jm",
        "outputId": "4bac8976-a190-45b0-8441-4dd7f86e3372"
      },
      "outputs": [
        {
          "output_type": "execute_result",
          "data": {
            "text/plain": [
              "Indicator      0\n",
              "Group          0\n",
              "State          0\n",
              "Subgroup       0\n",
              "Value        373\n",
              "LowCI        373\n",
              "HighCI       373\n",
              "dtype: int64"
            ]
          },
          "metadata": {},
          "execution_count": 19
        }
      ],
      "source": [
        "mental.isnull().sum()\n"
      ]
    },
    {
      "cell_type": "code",
      "execution_count": null,
      "metadata": {
        "id": "6gDpvt85jErs"
      },
      "outputs": [],
      "source": [
        "#replacing the null values with forward filing\n",
        "\n",
        "mental['LowCI'].fillna(method='ffill', inplace=True)\n",
        "mental['Value'].fillna(method='ffill', inplace=True)\n",
        "mental['HighCI'].fillna(method='ffill', inplace=True)"
      ]
    },
    {
      "cell_type": "markdown",
      "metadata": {
        "id": "FOI6PyvoM7el"
      },
      "source": [
        "To deal with the null values we used forward filing beacuse this would not disrupt or deviate the data and control the outliers as opposed to using mean and median which fattened the distribution towards the centre deviating it from the original distribution.\n",
        "\n"
      ]
    },
    {
      "cell_type": "code",
      "execution_count": null,
      "metadata": {
        "colab": {
          "base_uri": "https://localhost:8080/"
        },
        "id": "L3IEAFhQjttQ",
        "outputId": "9d23a500-af97-4dff-93e6-84da2eaf92b2"
      },
      "outputs": [
        {
          "output_type": "execute_result",
          "data": {
            "text/plain": [
              "Indicator    0\n",
              "Group        0\n",
              "State        0\n",
              "Subgroup     0\n",
              "Value        0\n",
              "LowCI        0\n",
              "HighCI       0\n",
              "dtype: int64"
            ]
          },
          "metadata": {},
          "execution_count": 21
        }
      ],
      "source": [
        "mental.isnull().sum()\n"
      ]
    },
    {
      "cell_type": "code",
      "execution_count": null,
      "metadata": {
        "colab": {
          "base_uri": "https://localhost:8080/"
        },
        "id": "_wjn9w9gjv9e",
        "outputId": "b303afc9-a1cc-4bdd-e1f0-e043e8ba3a88"
      },
      "outputs": [
        {
          "output_type": "execute_result",
          "data": {
            "text/plain": [
              "Indicator     object\n",
              "Group         object\n",
              "State         object\n",
              "Subgroup      object\n",
              "Value        float64\n",
              "LowCI        float64\n",
              "HighCI       float64\n",
              "dtype: object"
            ]
          },
          "metadata": {},
          "execution_count": 22
        }
      ],
      "source": [
        "#Checking the datatypes for the columns\n",
        "mental.dtypes"
      ]
    },
    {
      "cell_type": "code",
      "execution_count": null,
      "metadata": {
        "colab": {
          "base_uri": "https://localhost:8080/"
        },
        "id": "P85peCTnkohX",
        "outputId": "99ac9462-282e-47b3-f279-12257216cf6b"
      },
      "outputs": [
        {
          "output_type": "execute_result",
          "data": {
            "text/plain": [
              "Indicator     object\n",
              "Group         object\n",
              "State         object\n",
              "Subgroup      object\n",
              "Value        float64\n",
              "LowCI        float64\n",
              "HighCI       float64\n",
              "dtype: object"
            ]
          },
          "metadata": {},
          "execution_count": 23
        }
      ],
      "source": [
        "#checking if the data types changed from object to datetime\n",
        "mental.dtypes"
      ]
    },
    {
      "cell_type": "markdown",
      "metadata": {
        "id": "gooxz3x7Mfrg"
      },
      "source": [
        "The data types for Time Period,Time Period Start Date and Time Period End Date changed from object to datetime\n"
      ]
    },
    {
      "cell_type": "code",
      "execution_count": null,
      "metadata": {
        "colab": {
          "base_uri": "https://localhost:8080/",
          "height": 300
        },
        "id": "QL2TsgNYlZlt",
        "outputId": "d967010a-c2a4-4e42-d55e-502f31c8b27a"
      },
      "outputs": [
        {
          "output_type": "execute_result",
          "data": {
            "text/html": [
              "\n",
              "  <div id=\"df-80e1bc93-a4ed-4d63-bd9f-6a0d7ad46dd4\">\n",
              "    <div class=\"colab-df-container\">\n",
              "      <div>\n",
              "<style scoped>\n",
              "    .dataframe tbody tr th:only-of-type {\n",
              "        vertical-align: middle;\n",
              "    }\n",
              "\n",
              "    .dataframe tbody tr th {\n",
              "        vertical-align: top;\n",
              "    }\n",
              "\n",
              "    .dataframe thead th {\n",
              "        text-align: right;\n",
              "    }\n",
              "</style>\n",
              "<table border=\"1\" class=\"dataframe\">\n",
              "  <thead>\n",
              "    <tr style=\"text-align: right;\">\n",
              "      <th></th>\n",
              "      <th>Value</th>\n",
              "      <th>LowCI</th>\n",
              "      <th>HighCI</th>\n",
              "    </tr>\n",
              "  </thead>\n",
              "  <tbody>\n",
              "    <tr>\n",
              "      <th>count</th>\n",
              "      <td>9008.000000</td>\n",
              "      <td>9008.000000</td>\n",
              "      <td>9008.000000</td>\n",
              "    </tr>\n",
              "    <tr>\n",
              "      <th>mean</th>\n",
              "      <td>17.117074</td>\n",
              "      <td>14.403064</td>\n",
              "      <td>20.199967</td>\n",
              "    </tr>\n",
              "    <tr>\n",
              "      <th>std</th>\n",
              "      <td>8.009178</td>\n",
              "      <td>7.443440</td>\n",
              "      <td>8.750777</td>\n",
              "    </tr>\n",
              "    <tr>\n",
              "      <th>min</th>\n",
              "      <td>1.400000</td>\n",
              "      <td>0.800000</td>\n",
              "      <td>2.000000</td>\n",
              "    </tr>\n",
              "    <tr>\n",
              "      <th>25%</th>\n",
              "      <td>10.100000</td>\n",
              "      <td>7.800000</td>\n",
              "      <td>12.800000</td>\n",
              "    </tr>\n",
              "    <tr>\n",
              "      <th>50%</th>\n",
              "      <td>15.900000</td>\n",
              "      <td>13.600000</td>\n",
              "      <td>19.000000</td>\n",
              "    </tr>\n",
              "    <tr>\n",
              "      <th>75%</th>\n",
              "      <td>23.600000</td>\n",
              "      <td>20.300000</td>\n",
              "      <td>27.200000</td>\n",
              "    </tr>\n",
              "    <tr>\n",
              "      <th>max</th>\n",
              "      <td>56.000000</td>\n",
              "      <td>47.200000</td>\n",
              "      <td>65.900000</td>\n",
              "    </tr>\n",
              "  </tbody>\n",
              "</table>\n",
              "</div>\n",
              "      <button class=\"colab-df-convert\" onclick=\"convertToInteractive('df-80e1bc93-a4ed-4d63-bd9f-6a0d7ad46dd4')\"\n",
              "              title=\"Convert this dataframe to an interactive table.\"\n",
              "              style=\"display:none;\">\n",
              "        \n",
              "  <svg xmlns=\"http://www.w3.org/2000/svg\" height=\"24px\"viewBox=\"0 0 24 24\"\n",
              "       width=\"24px\">\n",
              "    <path d=\"M0 0h24v24H0V0z\" fill=\"none\"/>\n",
              "    <path d=\"M18.56 5.44l.94 2.06.94-2.06 2.06-.94-2.06-.94-.94-2.06-.94 2.06-2.06.94zm-11 1L8.5 8.5l.94-2.06 2.06-.94-2.06-.94L8.5 2.5l-.94 2.06-2.06.94zm10 10l.94 2.06.94-2.06 2.06-.94-2.06-.94-.94-2.06-.94 2.06-2.06.94z\"/><path d=\"M17.41 7.96l-1.37-1.37c-.4-.4-.92-.59-1.43-.59-.52 0-1.04.2-1.43.59L10.3 9.45l-7.72 7.72c-.78.78-.78 2.05 0 2.83L4 21.41c.39.39.9.59 1.41.59.51 0 1.02-.2 1.41-.59l7.78-7.78 2.81-2.81c.8-.78.8-2.07 0-2.86zM5.41 20L4 18.59l7.72-7.72 1.47 1.35L5.41 20z\"/>\n",
              "  </svg>\n",
              "      </button>\n",
              "      \n",
              "  <style>\n",
              "    .colab-df-container {\n",
              "      display:flex;\n",
              "      flex-wrap:wrap;\n",
              "      gap: 12px;\n",
              "    }\n",
              "\n",
              "    .colab-df-convert {\n",
              "      background-color: #E8F0FE;\n",
              "      border: none;\n",
              "      border-radius: 50%;\n",
              "      cursor: pointer;\n",
              "      display: none;\n",
              "      fill: #1967D2;\n",
              "      height: 32px;\n",
              "      padding: 0 0 0 0;\n",
              "      width: 32px;\n",
              "    }\n",
              "\n",
              "    .colab-df-convert:hover {\n",
              "      background-color: #E2EBFA;\n",
              "      box-shadow: 0px 1px 2px rgba(60, 64, 67, 0.3), 0px 1px 3px 1px rgba(60, 64, 67, 0.15);\n",
              "      fill: #174EA6;\n",
              "    }\n",
              "\n",
              "    [theme=dark] .colab-df-convert {\n",
              "      background-color: #3B4455;\n",
              "      fill: #D2E3FC;\n",
              "    }\n",
              "\n",
              "    [theme=dark] .colab-df-convert:hover {\n",
              "      background-color: #434B5C;\n",
              "      box-shadow: 0px 1px 3px 1px rgba(0, 0, 0, 0.15);\n",
              "      filter: drop-shadow(0px 1px 2px rgba(0, 0, 0, 0.3));\n",
              "      fill: #FFFFFF;\n",
              "    }\n",
              "  </style>\n",
              "\n",
              "      <script>\n",
              "        const buttonEl =\n",
              "          document.querySelector('#df-80e1bc93-a4ed-4d63-bd9f-6a0d7ad46dd4 button.colab-df-convert');\n",
              "        buttonEl.style.display =\n",
              "          google.colab.kernel.accessAllowed ? 'block' : 'none';\n",
              "\n",
              "        async function convertToInteractive(key) {\n",
              "          const element = document.querySelector('#df-80e1bc93-a4ed-4d63-bd9f-6a0d7ad46dd4');\n",
              "          const dataTable =\n",
              "            await google.colab.kernel.invokeFunction('convertToInteractive',\n",
              "                                                     [key], {});\n",
              "          if (!dataTable) return;\n",
              "\n",
              "          const docLinkHtml = 'Like what you see? Visit the ' +\n",
              "            '<a target=\"_blank\" href=https://colab.research.google.com/notebooks/data_table.ipynb>data table notebook</a>'\n",
              "            + ' to learn more about interactive tables.';\n",
              "          element.innerHTML = '';\n",
              "          dataTable['output_type'] = 'display_data';\n",
              "          await google.colab.output.renderOutput(dataTable, element);\n",
              "          const docLink = document.createElement('div');\n",
              "          docLink.innerHTML = docLinkHtml;\n",
              "          element.appendChild(docLink);\n",
              "        }\n",
              "      </script>\n",
              "    </div>\n",
              "  </div>\n",
              "  "
            ],
            "text/plain": [
              "             Value        LowCI       HighCI\n",
              "count  9008.000000  9008.000000  9008.000000\n",
              "mean     17.117074    14.403064    20.199967\n",
              "std       8.009178     7.443440     8.750777\n",
              "min       1.400000     0.800000     2.000000\n",
              "25%      10.100000     7.800000    12.800000\n",
              "50%      15.900000    13.600000    19.000000\n",
              "75%      23.600000    20.300000    27.200000\n",
              "max      56.000000    47.200000    65.900000"
            ]
          },
          "metadata": {},
          "execution_count": 24
        }
      ],
      "source": [
        "mental.describe()"
      ]
    },
    {
      "cell_type": "code",
      "execution_count": null,
      "metadata": {
        "colab": {
          "base_uri": "https://localhost:8080/"
        },
        "id": "16YzbFdnlf1k",
        "outputId": "573d6f63-cf51-481d-f16e-28a686e64d15"
      },
      "outputs": [
        {
          "output_type": "execute_result",
          "data": {
            "text/plain": [
              "0       False\n",
              "1       False\n",
              "2       False\n",
              "3       False\n",
              "4       False\n",
              "        ...  \n",
              "9003    False\n",
              "9004    False\n",
              "9005    False\n",
              "9006    False\n",
              "9007    False\n",
              "Length: 9008, dtype: bool"
            ]
          },
          "metadata": {},
          "execution_count": 25
        }
      ],
      "source": [
        "#checking for duplicate values\n",
        "mental.duplicated()"
      ]
    },
    {
      "cell_type": "markdown",
      "metadata": {
        "id": "-H4VhSeKtOd3"
      },
      "source": [
        "There are 0 duplicate values"
      ]
    },
    {
      "cell_type": "code",
      "execution_count": null,
      "metadata": {
        "colab": {
          "base_uri": "https://localhost:8080/",
          "height": 537
        },
        "id": "oBxZiqGFkgag",
        "outputId": "a33eec7f-58d8-4e6f-da42-e94917c9b619"
      },
      "outputs": [
        {
          "output_type": "stream",
          "name": "stderr",
          "text": [
            "/usr/local/lib/python3.7/dist-packages/seaborn/_decorators.py:43: FutureWarning: Pass the following variable as a keyword arg: x. From version 0.12, the only valid positional argument will be `data`, and passing other arguments without an explicit keyword will result in an error or misinterpretation.\n",
            "  FutureWarning\n",
            "/usr/local/lib/python3.7/dist-packages/seaborn/_decorators.py:43: FutureWarning: Pass the following variable as a keyword arg: x. From version 0.12, the only valid positional argument will be `data`, and passing other arguments without an explicit keyword will result in an error or misinterpretation.\n",
            "  FutureWarning\n",
            "/usr/local/lib/python3.7/dist-packages/seaborn/_decorators.py:43: FutureWarning: Pass the following variable as a keyword arg: x. From version 0.12, the only valid positional argument will be `data`, and passing other arguments without an explicit keyword will result in an error or misinterpretation.\n",
            "  FutureWarning\n"
          ]
        },
        {
          "output_type": "display_data",
          "data": {
            "image/png": "[encoded data removed]",
            "text/plain": [
              "<Figure size 1440x504 with 3 Axes>"
            ]
          },
          "metadata": {
            "needs_background": "light"
          }
        }
      ],
      "source": [
        "#checking for outliers\n",
        "fig, ((ax1, ax2, ax3)) = plt.subplots(1,3, figsize=(20,7))\n",
        "fig.suptitle('Boxplots')\n",
        "sns.boxplot(mental['Value'], ax=ax1)\n",
        "sns.boxplot(mental['LowCI'], ax=ax2)\n",
        "sns.boxplot(mental['HighCI'], ax=ax3)\n",
        "plt.show()"
      ]
    },
    {
      "cell_type": "markdown",
      "source": [
        "There are outliers on all the selected columns. The outliers should not be dropped because they are valuable values for a conclusive outcome."
      ],
      "metadata": {
        "id": "Nk-LnFNYLDRQ"
      }
    },
    {
      "cell_type": "code",
      "execution_count": null,
      "metadata": {
        "colab": {
          "base_uri": "https://localhost:8080/",
          "height": 1000
        },
        "id": "IVpqKWlvYnDA",
        "outputId": "cb69d25f-b89f-4e8a-8de9-a2874e4bcb25"
      },
      "outputs": [
        {
          "output_type": "display_data",
          "data": {
            "image/png": "[encoded data removed]",
            "text/plain": [
              "<Figure size 864x1296 with 3 Axes>"
            ]
          },
          "metadata": {
            "needs_background": "light"
          }
        }
      ],
      "source": [
        "# checking for anomalies\n",
        "anomalies_columns = ['Value', 'LowCI', 'HighCI']\n",
        "fig, ax = plt.subplots(len(anomalies_columns), figsize=(12,18))\n",
        "\n",
        "for i, col_val in enumerate(anomalies_columns):\n",
        "\n",
        "    sns.boxplot(y=mental[col_val], ax=ax[i])\n",
        "    ax[i].set_xlabel(col_val, fontsize=1)\n"
      ]
    },
    {
      "cell_type": "markdown",
      "metadata": {
        "id": "iEYI1qH6y8yI"
      },
      "source": [
        "#5.EXPLORATORY DATA ANALYSIS**"
      ]
    },
    {
      "cell_type": "markdown",
      "metadata": {
        "id": "2wq4OLbtzDcn"
      },
      "source": [
        "# a)UNIVARIATE ANALYSIS"
      ]
    },
    {
      "cell_type": "code",
      "execution_count": null,
      "metadata": {
        "colab": {
          "base_uri": "https://localhost:8080/"
        },
        "id": "J2E8RU15cd78",
        "outputId": "c57f7552-6b0e-4fcf-a39f-f42b0508f0ed"
      },
      "outputs": [
        {
          "output_type": "stream",
          "name": "stdout",
          "text": [
            "\n",
            "\n",
            "Value, Mean: 17.117073712255863\n",
            "Value, Mode: 0    10.7\n",
            "dtype: float64\n",
            "Value, Median: 15.9\n",
            "Value, Standard deviation: 8.009177829607715\n",
            "Value, Variance: 64.14692950627976\n",
            "Value, Skewness: 0.48049555469744093\n",
            "Value, Kurtosis: -0.300558782045814\n",
            "\n",
            "\n",
            "LowCI, Mean: 14.403063943161627\n",
            "LowCI, Mode: 0    6.6\n",
            "dtype: float64\n",
            "LowCI, Median: 13.6\n",
            "LowCI, Standard deviation: 7.443440078602707\n",
            "LowCI, Variance: 55.40480020374908\n",
            "LowCI, Skewness: 0.5359470802946363\n",
            "LowCI, Kurtosis: -0.1065824367277104\n",
            "\n",
            "\n",
            "HighCI, Mean: 20.199966696270042\n",
            "HighCI, Mode: 0    28.7\n",
            "dtype: float64\n",
            "HighCI, Median: 19.0\n",
            "HighCI, Standard deviation: 8.750776583660622\n",
            "HighCI, Variance: 76.57609081714308\n",
            "HighCI, Skewness: 0.48865981525102953\n",
            "HighCI, Kurtosis: -0.15847262825650832\n"
          ]
        }
      ],
      "source": [
        "# Finding the measures of central tendencies\n",
        "for column in anomalies_columns:\n",
        "  print('\\n')\n",
        "  print(column + ', Mean: '+ str(mental[column].mean()))\n",
        "  print(column + ', Mode: '+ str(mental[column].mode()))\n",
        "  print(column + ', Median: '+ str(mental[column].median()))\n",
        "  print(column + ', Standard deviation: '+ str(mental[column].std()))\n",
        "  print(column + ', Variance: '+ str(mental[column].var()))\n",
        "  print(column + ', Skewness: '+ str(mental[column].skew()))\n",
        "  print(column + ', Kurtosis: '+ str(mental[column].kurt()))\n"
      ]
    },
    {
      "cell_type": "markdown",
      "metadata": {
        "id": "F1nDE4rnvmTz"
      },
      "source": [
        "**Frequency Table**"
      ]
    },
    {
      "cell_type": "code",
      "execution_count": null,
      "metadata": {
        "colab": {
          "base_uri": "https://localhost:8080/"
        },
        "id": "Re4HPQTyuAlI",
        "outputId": "ea688f40-f6fe-42bb-ce74-4067686068ec"
      },
      "outputs": [
        {
          "output_type": "execute_result",
          "data": {
            "text/plain": [
              "By State                                         5916\n",
              "By Age                                            924\n",
              "By Race/Hispanic ethnicity                        660\n",
              "By Education                                      528\n",
              "By Sex                                            264\n",
              "By Presence of Symptoms of Anxiety/Depression     264\n",
              "National Estimate                                 132\n",
              "By Disability status                              128\n",
              "By Sexual orientation                              96\n",
              "By Gender identity                                 96\n",
              "Name: Group, dtype: int64"
            ]
          },
          "metadata": {},
          "execution_count": 29
        }
      ],
      "source": [
        "#frequency table for group variable\n",
        "mental.Group.value_counts()\n"
      ]
    },
    {
      "cell_type": "markdown",
      "metadata": {
        "id": "wGGUGrBPudvq"
      },
      "source": [
        "According to our frequency table \"By State\" group has the highest number of records whereas 'By Gender identity' and 'By Sexual orientation' have the least number of records."
      ]
    },
    {
      "cell_type": "markdown",
      "metadata": {
        "id": "naUK8nsK0Fgc"
      },
      "source": [
        "**Bar graph**"
      ]
    },
    {
      "cell_type": "code",
      "execution_count": null,
      "metadata": {
        "colab": {
          "base_uri": "https://localhost:8080/",
          "height": 312
        },
        "id": "OVCR65Gp2fSV",
        "outputId": "bccd68d3-8452-40aa-fa50-c92330996b99"
      },
      "outputs": [
        {
          "output_type": "execute_result",
          "data": {
            "text/plain": [
              "Text(0.5, 1.0, 'Bargraph GroupName')"
            ]
          },
          "metadata": {},
          "execution_count": 30
        },
        {
          "output_type": "display_data",
          "data": {
            "image/png": "[encoded data removed]",
            "text/plain": [
              "<Figure size 432x288 with 1 Axes>"
            ]
          },
          "metadata": {
            "needs_background": "light"
          }
        }
      ],
      "source": [
        "mental['Group'].value_counts().plot(kind= 'barh');\n",
        "\n",
        "plt.xlabel(\"Count\")\n",
        "plt.ylabel(\"Group Name\")\n",
        "\n",
        "# Giving a title to our Bar chart\n",
        "plt.title(\"Bargraph GroupName\")\n",
        "\n"
      ]
    },
    {
      "cell_type": "markdown",
      "source": [
        "By state group has the highest number of records while By Gender Identity and By sexual orientation has the lowest number of records."
      ],
      "metadata": {
        "id": "W_CI-GRS5lfW"
      }
    },
    {
      "cell_type": "markdown",
      "metadata": {
        "id": "GwRWY6egASVp"
      },
      "source": [
        "# b)BIVARIATE ANALYSIS*"
      ]
    },
    {
      "cell_type": "markdown",
      "metadata": {
        "id": "LHYV9JrFBSD2"
      },
      "source": [
        "Categorical"
      ]
    },
    {
      "cell_type": "code",
      "source": [
        "colors = ['red']\n",
        "mental_age=mental[[\"Group\",\"Subgroup\",\"Value\"]]\n",
        "mental_age1=(mental_age.loc[mental_age['Group'] == 'By Age'])\n",
        "mental_age2=mental_age1.groupby('Subgroup')['Value'].mean()\n",
        "\n",
        "mental_age2.plot(x='Subgroup', kind='bar',title=' Bar Graph by Age', color=colors);"
      ],
      "metadata": {
        "colab": {
          "base_uri": "https://localhost:8080/",
          "height": 384
        },
        "id": "7vfXdLF0Cv2n",
        "outputId": "0717e7d7-51ec-4087-ee08-e9e6d20e27a5"
      },
      "execution_count": null,
      "outputs": [
        {
          "output_type": "display_data",
          "data": {
            "image/png": "[encoded data removed]",
            "text/plain": [
              "<Figure size 432x288 with 1 Axes>"
            ]
          },
          "metadata": {
            "needs_background": "light"
          }
        }
      ]
    },
    {
      "cell_type": "markdown",
      "source": [
        "From the above visualization, age group 18-29 years has the highest number of records who were affected mentally by the covid 19 pandemic"
      ],
      "metadata": {
        "id": "t2JX9cpn6Lo8"
      }
    },
    {
      "cell_type": "code",
      "source": [
        "# plotting the highest recording state\n",
        "colors = [\"pink\"]\n",
        "mental_state=mental[[\"Group\",\"Subgroup\",\"Value\"]]\n",
        "mental_state1=(mental_state.loc[mental_state['Group'] == 'By State'])\n",
        "mental_state2=mental_state1.groupby('Subgroup')['Value'].mean().sort_values(ascending=False).head(10)\n",
        "\n",
        "mental_state2.plot(x='Subgroup', kind='bar',title=' Bar Graph by highest state', figsize=(10,5), color=colors);"
      ],
      "metadata": {
        "colab": {
          "base_uri": "https://localhost:8080/",
          "height": 439
        },
        "id": "virrqR64FUWt",
        "outputId": "94e1b550-db65-4947-8287-e374e6d423fd"
      },
      "execution_count": null,
      "outputs": [
        {
          "output_type": "display_data",
          "data": {
            "image/png": "[encoded data removed]",
            "text/plain": [
              "<Figure size 720x360 with 1 Axes>"
            ]
          },
          "metadata": {
            "needs_background": "light"
          }
        }
      ]
    },
    {
      "cell_type": "markdown",
      "source": [
        "From the above visualization, Utah recorded the highest number"
      ],
      "metadata": {
        "id": "rNzBVUwF6lhw"
      }
    },
    {
      "cell_type": "code",
      "source": [
        "# plotting the lowest recording state\n",
        "colors= [\"slateblue\"]\n",
        "mental_state=mental[[\"Group\",\"Subgroup\",\"Value\"]]\n",
        "mental_state1=(mental_state.loc[mental_state['Group'] == 'By State'])\n",
        "mental_state2=mental_state1.groupby('Subgroup')['Value'].mean().sort_values(ascending=False).tail(10)\n",
        "\n",
        "mental_state2.plot(x='Subgroup', kind='bar',title=' Bar Graph by lowest state', figsize=(10,5), color=colors);"
      ],
      "metadata": {
        "colab": {
          "base_uri": "https://localhost:8080/",
          "height": 407
        },
        "id": "Bvs0hJ06q1fz",
        "outputId": "979af155-4088-4765-9e4e-1170d6281841"
      },
      "execution_count": null,
      "outputs": [
        {
          "output_type": "display_data",
          "data": {
            "image/png": "[encoded data removed]",
            "text/plain": [
              "<Figure size 720x360 with 1 Axes>"
            ]
          },
          "metadata": {
            "needs_background": "light"
          }
        }
      ]
    },
    {
      "cell_type": "markdown",
      "source": [
        "Hawaii recorded the lowest numbers"
      ],
      "metadata": {
        "id": "oAlupYDQrNwb"
      }
    },
    {
      "cell_type": "code",
      "source": [
        "colors=[\"orange\"]\n",
        "mental_sex=mental[[\"Group\",\"Subgroup\",\"Value\"]]\n",
        "mental_sex1=(mental_sex.loc[mental_sex['Group'] == 'By Sex'])\n",
        "mental_sex2=mental_sex1.groupby('Subgroup')['Value'].mean()\n",
        "\n",
        "mental_sex2.plot(x='Subgroup', kind='bar',title=' Bar Graph by sex', color=colors);"
      ],
      "metadata": {
        "id": "R6iq8qLfHE6l",
        "colab": {
          "base_uri": "https://localhost:8080/",
          "height": 321
        },
        "outputId": "3398b1ba-0cdd-4a67-bae9-8762cd2d1b24"
      },
      "execution_count": null,
      "outputs": [
        {
          "output_type": "display_data",
          "data": {
            "image/png": "[encoded data removed]",
            "text/plain": [
              "<Figure size 432x288 with 1 Axes>"
            ]
          },
          "metadata": {
            "needs_background": "light"
          }
        }
      ]
    },
    {
      "cell_type": "markdown",
      "source": [
        "From the above visualization,Female has the highest number of records who were affected mentally by the covid 19 pandemic"
      ],
      "metadata": {
        "id": "clgFTzbk7sO5"
      }
    },
    {
      "cell_type": "code",
      "source": [
        "colors= [\"lightblue\"]\n",
        "mental_dis=mental[[\"Group\",\"Subgroup\",\"Value\"]]\n",
        "mental_dis1=(mental_dis.loc[mental_dis['Group'] == 'By Disability status'])\n",
        "mental_dis2=mental_dis1.groupby('Subgroup')['Value'].mean()\n",
        "\n",
        "mental_dis2.plot(x='Subgroup', kind='bar',title=' Bar Graph by Disability status', color=colors);"
      ],
      "metadata": {
        "colab": {
          "base_uri": "https://localhost:8080/",
          "height": 373
        },
        "id": "9JSICWC8Gbgf",
        "outputId": "54151924-cf02-4f6c-ac7f-bac89c8173d1"
      },
      "execution_count": null,
      "outputs": [
        {
          "output_type": "display_data",
          "data": {
            "image/png": "[encoded data removed]",
            "text/plain": [
              "<Figure size 432x288 with 1 Axes>"
            ]
          },
          "metadata": {
            "needs_background": "light"
          }
        }
      ]
    },
    {
      "cell_type": "markdown",
      "source": [
        "From the above visualization, people with disability had the highest number of records who were affected mentally by the covid 19 pandemic"
      ],
      "metadata": {
        "id": "ZNVm7RJi77Lu"
      }
    },
    {
      "cell_type": "code",
      "execution_count": null,
      "metadata": {
        "id": "rJy9bpRABVi0",
        "colab": {
          "base_uri": "https://localhost:8080/",
          "height": 143
        },
        "outputId": "01290aa9-2fbb-4840-98b7-8a3afaa21971"
      },
      "outputs": [
        {
          "output_type": "execute_result",
          "data": {
            "text/html": [
              "\n",
              "  <div id=\"df-988c7a4c-7277-406a-9853-fdd8c047ec1f\">\n",
              "    <div class=\"colab-df-container\">\n",
              "      <div>\n",
              "<style scoped>\n",
              "    .dataframe tbody tr th:only-of-type {\n",
              "        vertical-align: middle;\n",
              "    }\n",
              "\n",
              "    .dataframe tbody tr th {\n",
              "        vertical-align: top;\n",
              "    }\n",
              "\n",
              "    .dataframe thead th {\n",
              "        text-align: right;\n",
              "    }\n",
              "</style>\n",
              "<table border=\"1\" class=\"dataframe\">\n",
              "  <thead>\n",
              "    <tr style=\"text-align: right;\">\n",
              "      <th></th>\n",
              "      <th>Indicator</th>\n",
              "      <th>Group</th>\n",
              "      <th>State</th>\n",
              "      <th>Subgroup</th>\n",
              "      <th>Value</th>\n",
              "      <th>LowCI</th>\n",
              "      <th>HighCI</th>\n",
              "    </tr>\n",
              "  </thead>\n",
              "  <tbody>\n",
              "    <tr>\n",
              "      <th>0</th>\n",
              "      <td>3</td>\n",
              "      <td>9</td>\n",
              "      <td>44</td>\n",
              "      <td>70</td>\n",
              "      <td>19.4</td>\n",
              "      <td>19.0</td>\n",
              "      <td>19.8</td>\n",
              "    </tr>\n",
              "    <tr>\n",
              "      <th>1</th>\n",
              "      <td>3</td>\n",
              "      <td>0</td>\n",
              "      <td>44</td>\n",
              "      <td>0</td>\n",
              "      <td>18.7</td>\n",
              "      <td>17.2</td>\n",
              "      <td>20.3</td>\n",
              "    </tr>\n",
              "    <tr>\n",
              "      <th>2</th>\n",
              "      <td>3</td>\n",
              "      <td>0</td>\n",
              "      <td>44</td>\n",
              "      <td>1</td>\n",
              "      <td>18.3</td>\n",
              "      <td>17.3</td>\n",
              "      <td>19.2</td>\n",
              "    </tr>\n",
              "  </tbody>\n",
              "</table>\n",
              "</div>\n",
              "      <button class=\"colab-df-convert\" onclick=\"convertToInteractive('df-988c7a4c-7277-406a-9853-fdd8c047ec1f')\"\n",
              "              title=\"Convert this dataframe to an interactive table.\"\n",
              "              style=\"display:none;\">\n",
              "        \n",
              "  <svg xmlns=\"http://www.w3.org/2000/svg\" height=\"24px\"viewBox=\"0 0 24 24\"\n",
              "       width=\"24px\">\n",
              "    <path d=\"M0 0h24v24H0V0z\" fill=\"none\"/>\n",
              "    <path d=\"M18.56 5.44l.94 2.06.94-2.06 2.06-.94-2.06-.94-.94-2.06-.94 2.06-2.06.94zm-11 1L8.5 8.5l.94-2.06 2.06-.94-2.06-.94L8.5 2.5l-.94 2.06-2.06.94zm10 10l.94 2.06.94-2.06 2.06-.94-2.06-.94-.94-2.06-.94 2.06-2.06.94z\"/><path d=\"M17.41 7.96l-1.37-1.37c-.4-.4-.92-.59-1.43-.59-.52 0-1.04.2-1.43.59L10.3 9.45l-7.72 7.72c-.78.78-.78 2.05 0 2.83L4 21.41c.39.39.9.59 1.41.59.51 0 1.02-.2 1.41-.59l7.78-7.78 2.81-2.81c.8-.78.8-2.07 0-2.86zM5.41 20L4 18.59l7.72-7.72 1.47 1.35L5.41 20z\"/>\n",
              "  </svg>\n",
              "      </button>\n",
              "      \n",
              "  <style>\n",
              "    .colab-df-container {\n",
              "      display:flex;\n",
              "      flex-wrap:wrap;\n",
              "      gap: 12px;\n",
              "    }\n",
              "\n",
              "    .colab-df-convert {\n",
              "      background-color: #E8F0FE;\n",
              "      border: none;\n",
              "      border-radius: 50%;\n",
              "      cursor: pointer;\n",
              "      display: none;\n",
              "      fill: #1967D2;\n",
              "      height: 32px;\n",
              "      padding: 0 0 0 0;\n",
              "      width: 32px;\n",
              "    }\n",
              "\n",
              "    .colab-df-convert:hover {\n",
              "      background-color: #E2EBFA;\n",
              "      box-shadow: 0px 1px 2px rgba(60, 64, 67, 0.3), 0px 1px 3px 1px rgba(60, 64, 67, 0.15);\n",
              "      fill: #174EA6;\n",
              "    }\n",
              "\n",
              "    [theme=dark] .colab-df-convert {\n",
              "      background-color: #3B4455;\n",
              "      fill: #D2E3FC;\n",
              "    }\n",
              "\n",
              "    [theme=dark] .colab-df-convert:hover {\n",
              "      background-color: #434B5C;\n",
              "      box-shadow: 0px 1px 3px 1px rgba(0, 0, 0, 0.15);\n",
              "      filter: drop-shadow(0px 1px 2px rgba(0, 0, 0, 0.3));\n",
              "      fill: #FFFFFF;\n",
              "    }\n",
              "  </style>\n",
              "\n",
              "      <script>\n",
              "        const buttonEl =\n",
              "          document.querySelector('#df-988c7a4c-7277-406a-9853-fdd8c047ec1f button.colab-df-convert');\n",
              "        buttonEl.style.display =\n",
              "          google.colab.kernel.accessAllowed ? 'block' : 'none';\n",
              "\n",
              "        async function convertToInteractive(key) {\n",
              "          const element = document.querySelector('#df-988c7a4c-7277-406a-9853-fdd8c047ec1f');\n",
              "          const dataTable =\n",
              "            await google.colab.kernel.invokeFunction('convertToInteractive',\n",
              "                                                     [key], {});\n",
              "          if (!dataTable) return;\n",
              "\n",
              "          const docLinkHtml = 'Like what you see? Visit the ' +\n",
              "            '<a target=\"_blank\" href=https://colab.research.google.com/notebooks/data_table.ipynb>data table notebook</a>'\n",
              "            + ' to learn more about interactive tables.';\n",
              "          element.innerHTML = '';\n",
              "          dataTable['output_type'] = 'display_data';\n",
              "          await google.colab.output.renderOutput(dataTable, element);\n",
              "          const docLink = document.createElement('div');\n",
              "          docLink.innerHTML = docLinkHtml;\n",
              "          element.appendChild(docLink);\n",
              "        }\n",
              "      </script>\n",
              "    </div>\n",
              "  </div>\n",
              "  "
            ],
            "text/plain": [
              "   Indicator  Group  State  Subgroup  Value  LowCI  HighCI\n",
              "0          3      9     44        70   19.4   19.0    19.8\n",
              "1          3      0     44         0   18.7   17.2    20.3\n",
              "2          3      0     44         1   18.3   17.3    19.2"
            ]
          },
          "metadata": {},
          "execution_count": 36
        }
      ],
      "source": [
        "#convert categorical data to numerical\n",
        "from sklearn.preprocessing import LabelEncoder\n",
        "en= LabelEncoder()\n",
        "\n",
        "mental['Indicator'] = en.fit_transform(mental['Indicator'])\n",
        "mental['Group'] = en.fit_transform(mental['Group'])\n",
        "mental['State'] = en.fit_transform(mental['State'])\n",
        "mental['Subgroup'] = en.fit_transform(mental['Subgroup'])\n",
        "mental.head(3)"
      ]
    },
    {
      "cell_type": "markdown",
      "metadata": {
        "id": "LVQ0t7vjDJSR"
      },
      "source": [
        "We converted the categorical data to numerical to help us find the correlation for the variables."
      ]
    },
    {
      "cell_type": "markdown",
      "metadata": {
        "id": "PLgGksMyA1Ck"
      },
      "source": [
        "Numerical"
      ]
    },
    {
      "cell_type": "code",
      "execution_count": null,
      "metadata": {
        "id": "8r-GLlzSAx1a",
        "colab": {
          "base_uri": "https://localhost:8080/",
          "height": 269
        },
        "outputId": "982b2e9a-431c-4cc5-dc70-dfa2434188ee"
      },
      "outputs": [
        {
          "output_type": "execute_result",
          "data": {
            "text/html": [
              "\n",
              "  <div id=\"df-8d34e585-91d7-4684-8858-1672e8423352\">\n",
              "    <div class=\"colab-df-container\">\n",
              "      <div>\n",
              "<style scoped>\n",
              "    .dataframe tbody tr th:only-of-type {\n",
              "        vertical-align: middle;\n",
              "    }\n",
              "\n",
              "    .dataframe tbody tr th {\n",
              "        vertical-align: top;\n",
              "    }\n",
              "\n",
              "    .dataframe thead th {\n",
              "        text-align: right;\n",
              "    }\n",
              "</style>\n",
              "<table border=\"1\" class=\"dataframe\">\n",
              "  <thead>\n",
              "    <tr style=\"text-align: right;\">\n",
              "      <th></th>\n",
              "      <th>Indicator</th>\n",
              "      <th>Group</th>\n",
              "      <th>State</th>\n",
              "      <th>Subgroup</th>\n",
              "      <th>Value</th>\n",
              "      <th>LowCI</th>\n",
              "      <th>HighCI</th>\n",
              "    </tr>\n",
              "  </thead>\n",
              "  <tbody>\n",
              "    <tr>\n",
              "      <th>Indicator</th>\n",
              "      <td>1.000000e+00</td>\n",
              "      <td>2.065332e-16</td>\n",
              "      <td>-2.990523e-17</td>\n",
              "      <td>1.792231e-17</td>\n",
              "      <td>0.617004</td>\n",
              "      <td>0.617299</td>\n",
              "      <td>0.597424</td>\n",
              "    </tr>\n",
              "    <tr>\n",
              "      <th>Group</th>\n",
              "      <td>2.065332e-16</td>\n",
              "      <td>1.000000e+00</td>\n",
              "      <td>-5.007499e-01</td>\n",
              "      <td>4.487192e-01</td>\n",
              "      <td>0.032467</td>\n",
              "      <td>-0.040274</td>\n",
              "      <td>0.104940</td>\n",
              "    </tr>\n",
              "    <tr>\n",
              "      <th>State</th>\n",
              "      <td>-2.990523e-17</td>\n",
              "      <td>-5.007499e-01</td>\n",
              "      <td>1.000000e+00</td>\n",
              "      <td>4.029283e-01</td>\n",
              "      <td>0.007000</td>\n",
              "      <td>0.059696</td>\n",
              "      <td>-0.045899</td>\n",
              "    </tr>\n",
              "    <tr>\n",
              "      <th>Subgroup</th>\n",
              "      <td>1.792231e-17</td>\n",
              "      <td>4.487192e-01</td>\n",
              "      <td>4.029283e-01</td>\n",
              "      <td>1.000000e+00</td>\n",
              "      <td>0.052907</td>\n",
              "      <td>0.020687</td>\n",
              "      <td>0.084231</td>\n",
              "    </tr>\n",
              "    <tr>\n",
              "      <th>Value</th>\n",
              "      <td>6.170042e-01</td>\n",
              "      <td>3.246698e-02</td>\n",
              "      <td>7.000452e-03</td>\n",
              "      <td>5.290664e-02</td>\n",
              "      <td>1.000000</td>\n",
              "      <td>0.985121</td>\n",
              "      <td>0.984265</td>\n",
              "    </tr>\n",
              "    <tr>\n",
              "      <th>LowCI</th>\n",
              "      <td>6.172991e-01</td>\n",
              "      <td>-4.027395e-02</td>\n",
              "      <td>5.969583e-02</td>\n",
              "      <td>2.068704e-02</td>\n",
              "      <td>0.985121</td>\n",
              "      <td>1.000000</td>\n",
              "      <td>0.939469</td>\n",
              "    </tr>\n",
              "    <tr>\n",
              "      <th>HighCI</th>\n",
              "      <td>5.974245e-01</td>\n",
              "      <td>1.049401e-01</td>\n",
              "      <td>-4.589936e-02</td>\n",
              "      <td>8.423064e-02</td>\n",
              "      <td>0.984265</td>\n",
              "      <td>0.939469</td>\n",
              "      <td>1.000000</td>\n",
              "    </tr>\n",
              "  </tbody>\n",
              "</table>\n",
              "</div>\n",
              "      <button class=\"colab-df-convert\" onclick=\"convertToInteractive('df-8d34e585-91d7-4684-8858-1672e8423352')\"\n",
              "              title=\"Convert this dataframe to an interactive table.\"\n",
              "              style=\"display:none;\">\n",
              "        \n",
              "  <svg xmlns=\"http://www.w3.org/2000/svg\" height=\"24px\"viewBox=\"0 0 24 24\"\n",
              "       width=\"24px\">\n",
              "    <path d=\"M0 0h24v24H0V0z\" fill=\"none\"/>\n",
              "    <path d=\"M18.56 5.44l.94 2.06.94-2.06 2.06-.94-2.06-.94-.94-2.06-.94 2.06-2.06.94zm-11 1L8.5 8.5l.94-2.06 2.06-.94-2.06-.94L8.5 2.5l-.94 2.06-2.06.94zm10 10l.94 2.06.94-2.06 2.06-.94-2.06-.94-.94-2.06-.94 2.06-2.06.94z\"/><path d=\"M17.41 7.96l-1.37-1.37c-.4-.4-.92-.59-1.43-.59-.52 0-1.04.2-1.43.59L10.3 9.45l-7.72 7.72c-.78.78-.78 2.05 0 2.83L4 21.41c.39.39.9.59 1.41.59.51 0 1.02-.2 1.41-.59l7.78-7.78 2.81-2.81c.8-.78.8-2.07 0-2.86zM5.41 20L4 18.59l7.72-7.72 1.47 1.35L5.41 20z\"/>\n",
              "  </svg>\n",
              "      </button>\n",
              "      \n",
              "  <style>\n",
              "    .colab-df-container {\n",
              "      display:flex;\n",
              "      flex-wrap:wrap;\n",
              "      gap: 12px;\n",
              "    }\n",
              "\n",
              "    .colab-df-convert {\n",
              "      background-color: #E8F0FE;\n",
              "      border: none;\n",
              "      border-radius: 50%;\n",
              "      cursor: pointer;\n",
              "      display: none;\n",
              "      fill: #1967D2;\n",
              "      height: 32px;\n",
              "      padding: 0 0 0 0;\n",
              "      width: 32px;\n",
              "    }\n",
              "\n",
              "    .colab-df-convert:hover {\n",
              "      background-color: #E2EBFA;\n",
              "      box-shadow: 0px 1px 2px rgba(60, 64, 67, 0.3), 0px 1px 3px 1px rgba(60, 64, 67, 0.15);\n",
              "      fill: #174EA6;\n",
              "    }\n",
              "\n",
              "    [theme=dark] .colab-df-convert {\n",
              "      background-color: #3B4455;\n",
              "      fill: #D2E3FC;\n",
              "    }\n",
              "\n",
              "    [theme=dark] .colab-df-convert:hover {\n",
              "      background-color: #434B5C;\n",
              "      box-shadow: 0px 1px 3px 1px rgba(0, 0, 0, 0.15);\n",
              "      filter: drop-shadow(0px 1px 2px rgba(0, 0, 0, 0.3));\n",
              "      fill: #FFFFFF;\n",
              "    }\n",
              "  </style>\n",
              "\n",
              "      <script>\n",
              "        const buttonEl =\n",
              "          document.querySelector('#df-8d34e585-91d7-4684-8858-1672e8423352 button.colab-df-convert');\n",
              "        buttonEl.style.display =\n",
              "          google.colab.kernel.accessAllowed ? 'block' : 'none';\n",
              "\n",
              "        async function convertToInteractive(key) {\n",
              "          const element = document.querySelector('#df-8d34e585-91d7-4684-8858-1672e8423352');\n",
              "          const dataTable =\n",
              "            await google.colab.kernel.invokeFunction('convertToInteractive',\n",
              "                                                     [key], {});\n",
              "          if (!dataTable) return;\n",
              "\n",
              "          const docLinkHtml = 'Like what you see? Visit the ' +\n",
              "            '<a target=\"_blank\" href=https://colab.research.google.com/notebooks/data_table.ipynb>data table notebook</a>'\n",
              "            + ' to learn more about interactive tables.';\n",
              "          element.innerHTML = '';\n",
              "          dataTable['output_type'] = 'display_data';\n",
              "          await google.colab.output.renderOutput(dataTable, element);\n",
              "          const docLink = document.createElement('div');\n",
              "          docLink.innerHTML = docLinkHtml;\n",
              "          element.appendChild(docLink);\n",
              "        }\n",
              "      </script>\n",
              "    </div>\n",
              "  </div>\n",
              "  "
            ],
            "text/plain": [
              "              Indicator         Group  ...     LowCI    HighCI\n",
              "Indicator  1.000000e+00  2.065332e-16  ...  0.617299  0.597424\n",
              "Group      2.065332e-16  1.000000e+00  ... -0.040274  0.104940\n",
              "State     -2.990523e-17 -5.007499e-01  ...  0.059696 -0.045899\n",
              "Subgroup   1.792231e-17  4.487192e-01  ...  0.020687  0.084231\n",
              "Value      6.170042e-01  3.246698e-02  ...  0.985121  0.984265\n",
              "LowCI      6.172991e-01 -4.027395e-02  ...  1.000000  0.939469\n",
              "HighCI     5.974245e-01  1.049401e-01  ...  0.939469  1.000000\n",
              "\n",
              "[7 rows x 7 columns]"
            ]
          },
          "metadata": {},
          "execution_count": 37
        }
      ],
      "source": [
        "#Correlation using a correlation table\n",
        "mental.corr()"
      ]
    },
    {
      "cell_type": "code",
      "execution_count": null,
      "metadata": {
        "id": "6oBrBbdBDAzX",
        "colab": {
          "base_uri": "https://localhost:8080/",
          "height": 595
        },
        "outputId": "045e05c9-70fb-488f-cfae-f2485d7b4a8a"
      },
      "outputs": [
        {
          "output_type": "display_data",
          "data": {
            "image/png": "[encoded data removed]",
            "text/plain": [
              "<Figure size 720x720 with 2 Axes>"
            ]
          },
          "metadata": {
            "needs_background": "light"
          }
        }
      ],
      "source": [
        "#correlation using a heatmap\n",
        "fig,ax = plt.subplots(figsize=(10, 10))\n",
        "sns.heatmap(mental.corr(),annot=True)\n",
        "plt.show()"
      ]
    },
    {
      "cell_type": "markdown",
      "metadata": {
        "id": "ya0rmpUJJGTg"
      },
      "source": [
        "# c)MULTIVARIATE ANALYSIS"
      ]
    },
    {
      "cell_type": "markdown",
      "source": [
        "Linear Discriminant Analysis (LDA) is a simple and powerful linear transformation that is most commonly used as dimensionality reduction technique in the pre-processing step for machine learning applications. The goal of linear discriminant analysis is to project a dataset onto a lower-dimensional space with good class-separability in order avoid overfitting (\"curse of dimensionality\") and also reduce computational costs.\n",
        "\n",
        "We decided to go with this because we had a known target variable as well"
      ],
      "metadata": {
        "id": "IHxkYUBtd1Ln"
      }
    },
    {
      "cell_type": "code",
      "source": [
        "mental.head()"
      ],
      "metadata": {
        "colab": {
          "base_uri": "https://localhost:8080/",
          "height": 206
        },
        "id": "rDgnV9mt0nh1",
        "outputId": "481f0c6d-b2fe-4ed5-b3ad-d814d71aa850"
      },
      "execution_count": null,
      "outputs": [
        {
          "output_type": "execute_result",
          "data": {
            "text/html": [
              "\n",
              "  <div id=\"df-bfc17e86-4817-4268-86ad-aaa43f5d1006\">\n",
              "    <div class=\"colab-df-container\">\n",
              "      <div>\n",
              "<style scoped>\n",
              "    .dataframe tbody tr th:only-of-type {\n",
              "        vertical-align: middle;\n",
              "    }\n",
              "\n",
              "    .dataframe tbody tr th {\n",
              "        vertical-align: top;\n",
              "    }\n",
              "\n",
              "    .dataframe thead th {\n",
              "        text-align: right;\n",
              "    }\n",
              "</style>\n",
              "<table border=\"1\" class=\"dataframe\">\n",
              "  <thead>\n",
              "    <tr style=\"text-align: right;\">\n",
              "      <th></th>\n",
              "      <th>Indicator</th>\n",
              "      <th>Group</th>\n",
              "      <th>State</th>\n",
              "      <th>Subgroup</th>\n",
              "      <th>Value</th>\n",
              "      <th>LowCI</th>\n",
              "      <th>HighCI</th>\n",
              "    </tr>\n",
              "  </thead>\n",
              "  <tbody>\n",
              "    <tr>\n",
              "      <th>0</th>\n",
              "      <td>3</td>\n",
              "      <td>9</td>\n",
              "      <td>44</td>\n",
              "      <td>70</td>\n",
              "      <td>19.4</td>\n",
              "      <td>19.0</td>\n",
              "      <td>19.8</td>\n",
              "    </tr>\n",
              "    <tr>\n",
              "      <th>1</th>\n",
              "      <td>3</td>\n",
              "      <td>0</td>\n",
              "      <td>44</td>\n",
              "      <td>0</td>\n",
              "      <td>18.7</td>\n",
              "      <td>17.2</td>\n",
              "      <td>20.3</td>\n",
              "    </tr>\n",
              "    <tr>\n",
              "      <th>2</th>\n",
              "      <td>3</td>\n",
              "      <td>0</td>\n",
              "      <td>44</td>\n",
              "      <td>1</td>\n",
              "      <td>18.3</td>\n",
              "      <td>17.3</td>\n",
              "      <td>19.2</td>\n",
              "    </tr>\n",
              "    <tr>\n",
              "      <th>3</th>\n",
              "      <td>3</td>\n",
              "      <td>0</td>\n",
              "      <td>44</td>\n",
              "      <td>2</td>\n",
              "      <td>20.4</td>\n",
              "      <td>19.5</td>\n",
              "      <td>21.3</td>\n",
              "    </tr>\n",
              "    <tr>\n",
              "      <th>4</th>\n",
              "      <td>3</td>\n",
              "      <td>0</td>\n",
              "      <td>44</td>\n",
              "      <td>3</td>\n",
              "      <td>21.2</td>\n",
              "      <td>20.2</td>\n",
              "      <td>22.2</td>\n",
              "    </tr>\n",
              "  </tbody>\n",
              "</table>\n",
              "</div>\n",
              "      <button class=\"colab-df-convert\" onclick=\"convertToInteractive('df-bfc17e86-4817-4268-86ad-aaa43f5d1006')\"\n",
              "              title=\"Convert this dataframe to an interactive table.\"\n",
              "              style=\"display:none;\">\n",
              "        \n",
              "  <svg xmlns=\"http://www.w3.org/2000/svg\" height=\"24px\"viewBox=\"0 0 24 24\"\n",
              "       width=\"24px\">\n",
              "    <path d=\"M0 0h24v24H0V0z\" fill=\"none\"/>\n",
              "    <path d=\"M18.56 5.44l.94 2.06.94-2.06 2.06-.94-2.06-.94-.94-2.06-.94 2.06-2.06.94zm-11 1L8.5 8.5l.94-2.06 2.06-.94-2.06-.94L8.5 2.5l-.94 2.06-2.06.94zm10 10l.94 2.06.94-2.06 2.06-.94-2.06-.94-.94-2.06-.94 2.06-2.06.94z\"/><path d=\"M17.41 7.96l-1.37-1.37c-.4-.4-.92-.59-1.43-.59-.52 0-1.04.2-1.43.59L10.3 9.45l-7.72 7.72c-.78.78-.78 2.05 0 2.83L4 21.41c.39.39.9.59 1.41.59.51 0 1.02-.2 1.41-.59l7.78-7.78 2.81-2.81c.8-.78.8-2.07 0-2.86zM5.41 20L4 18.59l7.72-7.72 1.47 1.35L5.41 20z\"/>\n",
              "  </svg>\n",
              "      </button>\n",
              "      \n",
              "  <style>\n",
              "    .colab-df-container {\n",
              "      display:flex;\n",
              "      flex-wrap:wrap;\n",
              "      gap: 12px;\n",
              "    }\n",
              "\n",
              "    .colab-df-convert {\n",
              "      background-color: #E8F0FE;\n",
              "      border: none;\n",
              "      border-radius: 50%;\n",
              "      cursor: pointer;\n",
              "      display: none;\n",
              "      fill: #1967D2;\n",
              "      height: 32px;\n",
              "      padding: 0 0 0 0;\n",
              "      width: 32px;\n",
              "    }\n",
              "\n",
              "    .colab-df-convert:hover {\n",
              "      background-color: #E2EBFA;\n",
              "      box-shadow: 0px 1px 2px rgba(60, 64, 67, 0.3), 0px 1px 3px 1px rgba(60, 64, 67, 0.15);\n",
              "      fill: #174EA6;\n",
              "    }\n",
              "\n",
              "    [theme=dark] .colab-df-convert {\n",
              "      background-color: #3B4455;\n",
              "      fill: #D2E3FC;\n",
              "    }\n",
              "\n",
              "    [theme=dark] .colab-df-convert:hover {\n",
              "      background-color: #434B5C;\n",
              "      box-shadow: 0px 1px 3px 1px rgba(0, 0, 0, 0.15);\n",
              "      filter: drop-shadow(0px 1px 2px rgba(0, 0, 0, 0.3));\n",
              "      fill: #FFFFFF;\n",
              "    }\n",
              "  </style>\n",
              "\n",
              "      <script>\n",
              "        const buttonEl =\n",
              "          document.querySelector('#df-bfc17e86-4817-4268-86ad-aaa43f5d1006 button.colab-df-convert');\n",
              "        buttonEl.style.display =\n",
              "          google.colab.kernel.accessAllowed ? 'block' : 'none';\n",
              "\n",
              "        async function convertToInteractive(key) {\n",
              "          const element = document.querySelector('#df-bfc17e86-4817-4268-86ad-aaa43f5d1006');\n",
              "          const dataTable =\n",
              "            await google.colab.kernel.invokeFunction('convertToInteractive',\n",
              "                                                     [key], {});\n",
              "          if (!dataTable) return;\n",
              "\n",
              "          const docLinkHtml = 'Like what you see? Visit the ' +\n",
              "            '<a target=\"_blank\" href=https://colab.research.google.com/notebooks/data_table.ipynb>data table notebook</a>'\n",
              "            + ' to learn more about interactive tables.';\n",
              "          element.innerHTML = '';\n",
              "          dataTable['output_type'] = 'display_data';\n",
              "          await google.colab.output.renderOutput(dataTable, element);\n",
              "          const docLink = document.createElement('div');\n",
              "          docLink.innerHTML = docLinkHtml;\n",
              "          element.appendChild(docLink);\n",
              "        }\n",
              "      </script>\n",
              "    </div>\n",
              "  </div>\n",
              "  "
            ],
            "text/plain": [
              "   Indicator  Group  State  Subgroup  Value  LowCI  HighCI\n",
              "0          3      9     44        70   19.4   19.0    19.8\n",
              "1          3      0     44         0   18.7   17.2    20.3\n",
              "2          3      0     44         1   18.3   17.3    19.2\n",
              "3          3      0     44         2   20.4   19.5    21.3\n",
              "4          3      0     44         3   21.2   20.2    22.2"
            ]
          },
          "metadata": {},
          "execution_count": 39
        }
      ]
    },
    {
      "cell_type": "code",
      "source": [
        "feat = mental.drop(['Indicator', 'Group', 'State'], 1)\n",
        "group_label= mental['Group']\n",
        "\n",
        "feat"
      ],
      "metadata": {
        "id": "ckJ8kG1Mf8F5",
        "colab": {
          "base_uri": "https://localhost:8080/",
          "height": 424
        },
        "outputId": "d184fa75-fb82-495f-bb6e-c0f4d541287a"
      },
      "execution_count": null,
      "outputs": [
        {
          "output_type": "execute_result",
          "data": {
            "text/html": [
              "\n",
              "  <div id=\"df-bf6946a2-1297-4190-9598-9374e36edaae\">\n",
              "    <div class=\"colab-df-container\">\n",
              "      <div>\n",
              "<style scoped>\n",
              "    .dataframe tbody tr th:only-of-type {\n",
              "        vertical-align: middle;\n",
              "    }\n",
              "\n",
              "    .dataframe tbody tr th {\n",
              "        vertical-align: top;\n",
              "    }\n",
              "\n",
              "    .dataframe thead th {\n",
              "        text-align: right;\n",
              "    }\n",
              "</style>\n",
              "<table border=\"1\" class=\"dataframe\">\n",
              "  <thead>\n",
              "    <tr style=\"text-align: right;\">\n",
              "      <th></th>\n",
              "      <th>Subgroup</th>\n",
              "      <th>Value</th>\n",
              "      <th>LowCI</th>\n",
              "      <th>HighCI</th>\n",
              "    </tr>\n",
              "  </thead>\n",
              "  <tbody>\n",
              "    <tr>\n",
              "      <th>0</th>\n",
              "      <td>70</td>\n",
              "      <td>19.4</td>\n",
              "      <td>19.0</td>\n",
              "      <td>19.8</td>\n",
              "    </tr>\n",
              "    <tr>\n",
              "      <th>1</th>\n",
              "      <td>0</td>\n",
              "      <td>18.7</td>\n",
              "      <td>17.2</td>\n",
              "      <td>20.3</td>\n",
              "    </tr>\n",
              "    <tr>\n",
              "      <th>2</th>\n",
              "      <td>1</td>\n",
              "      <td>18.3</td>\n",
              "      <td>17.3</td>\n",
              "      <td>19.2</td>\n",
              "    </tr>\n",
              "    <tr>\n",
              "      <th>3</th>\n",
              "      <td>2</td>\n",
              "      <td>20.4</td>\n",
              "      <td>19.5</td>\n",
              "      <td>21.3</td>\n",
              "    </tr>\n",
              "    <tr>\n",
              "      <th>4</th>\n",
              "      <td>3</td>\n",
              "      <td>21.2</td>\n",
              "      <td>20.2</td>\n",
              "      <td>22.2</td>\n",
              "    </tr>\n",
              "    <tr>\n",
              "      <th>...</th>\n",
              "      <td>...</td>\n",
              "      <td>...</td>\n",
              "      <td>...</td>\n",
              "      <td>...</td>\n",
              "    </tr>\n",
              "    <tr>\n",
              "      <th>9003</th>\n",
              "      <td>73</td>\n",
              "      <td>12.9</td>\n",
              "      <td>10.3</td>\n",
              "      <td>15.8</td>\n",
              "    </tr>\n",
              "    <tr>\n",
              "      <th>9004</th>\n",
              "      <td>74</td>\n",
              "      <td>14.3</td>\n",
              "      <td>12.4</td>\n",
              "      <td>16.4</td>\n",
              "    </tr>\n",
              "    <tr>\n",
              "      <th>9005</th>\n",
              "      <td>75</td>\n",
              "      <td>12.5</td>\n",
              "      <td>8.9</td>\n",
              "      <td>16.8</td>\n",
              "    </tr>\n",
              "    <tr>\n",
              "      <th>9006</th>\n",
              "      <td>76</td>\n",
              "      <td>10.0</td>\n",
              "      <td>7.8</td>\n",
              "      <td>12.6</td>\n",
              "    </tr>\n",
              "    <tr>\n",
              "      <th>9007</th>\n",
              "      <td>79</td>\n",
              "      <td>13.8</td>\n",
              "      <td>10.4</td>\n",
              "      <td>17.9</td>\n",
              "    </tr>\n",
              "  </tbody>\n",
              "</table>\n",
              "<p>9008 rows × 4 columns</p>\n",
              "</div>\n",
              "      <button class=\"colab-df-convert\" onclick=\"convertToInteractive('df-bf6946a2-1297-4190-9598-9374e36edaae')\"\n",
              "              title=\"Convert this dataframe to an interactive table.\"\n",
              "              style=\"display:none;\">\n",
              "        \n",
              "  <svg xmlns=\"http://www.w3.org/2000/svg\" height=\"24px\"viewBox=\"0 0 24 24\"\n",
              "       width=\"24px\">\n",
              "    <path d=\"M0 0h24v24H0V0z\" fill=\"none\"/>\n",
              "    <path d=\"M18.56 5.44l.94 2.06.94-2.06 2.06-.94-2.06-.94-.94-2.06-.94 2.06-2.06.94zm-11 1L8.5 8.5l.94-2.06 2.06-.94-2.06-.94L8.5 2.5l-.94 2.06-2.06.94zm10 10l.94 2.06.94-2.06 2.06-.94-2.06-.94-.94-2.06-.94 2.06-2.06.94z\"/><path d=\"M17.41 7.96l-1.37-1.37c-.4-.4-.92-.59-1.43-.59-.52 0-1.04.2-1.43.59L10.3 9.45l-7.72 7.72c-.78.78-.78 2.05 0 2.83L4 21.41c.39.39.9.59 1.41.59.51 0 1.02-.2 1.41-.59l7.78-7.78 2.81-2.81c.8-.78.8-2.07 0-2.86zM5.41 20L4 18.59l7.72-7.72 1.47 1.35L5.41 20z\"/>\n",
              "  </svg>\n",
              "      </button>\n",
              "      \n",
              "  <style>\n",
              "    .colab-df-container {\n",
              "      display:flex;\n",
              "      flex-wrap:wrap;\n",
              "      gap: 12px;\n",
              "    }\n",
              "\n",
              "    .colab-df-convert {\n",
              "      background-color: #E8F0FE;\n",
              "      border: none;\n",
              "      border-radius: 50%;\n",
              "      cursor: pointer;\n",
              "      display: none;\n",
              "      fill: #1967D2;\n",
              "      height: 32px;\n",
              "      padding: 0 0 0 0;\n",
              "      width: 32px;\n",
              "    }\n",
              "\n",
              "    .colab-df-convert:hover {\n",
              "      background-color: #E2EBFA;\n",
              "      box-shadow: 0px 1px 2px rgba(60, 64, 67, 0.3), 0px 1px 3px 1px rgba(60, 64, 67, 0.15);\n",
              "      fill: #174EA6;\n",
              "    }\n",
              "\n",
              "    [theme=dark] .colab-df-convert {\n",
              "      background-color: #3B4455;\n",
              "      fill: #D2E3FC;\n",
              "    }\n",
              "\n",
              "    [theme=dark] .colab-df-convert:hover {\n",
              "      background-color: #434B5C;\n",
              "      box-shadow: 0px 1px 3px 1px rgba(0, 0, 0, 0.15);\n",
              "      filter: drop-shadow(0px 1px 2px rgba(0, 0, 0, 0.3));\n",
              "      fill: #FFFFFF;\n",
              "    }\n",
              "  </style>\n",
              "\n",
              "      <script>\n",
              "        const buttonEl =\n",
              "          document.querySelector('#df-bf6946a2-1297-4190-9598-9374e36edaae button.colab-df-convert');\n",
              "        buttonEl.style.display =\n",
              "          google.colab.kernel.accessAllowed ? 'block' : 'none';\n",
              "\n",
              "        async function convertToInteractive(key) {\n",
              "          const element = document.querySelector('#df-bf6946a2-1297-4190-9598-9374e36edaae');\n",
              "          const dataTable =\n",
              "            await google.colab.kernel.invokeFunction('convertToInteractive',\n",
              "                                                     [key], {});\n",
              "          if (!dataTable) return;\n",
              "\n",
              "          const docLinkHtml = 'Like what you see? Visit the ' +\n",
              "            '<a target=\"_blank\" href=https://colab.research.google.com/notebooks/data_table.ipynb>data table notebook</a>'\n",
              "            + ' to learn more about interactive tables.';\n",
              "          element.innerHTML = '';\n",
              "          dataTable['output_type'] = 'display_data';\n",
              "          await google.colab.output.renderOutput(dataTable, element);\n",
              "          const docLink = document.createElement('div');\n",
              "          docLink.innerHTML = docLinkHtml;\n",
              "          element.appendChild(docLink);\n",
              "        }\n",
              "      </script>\n",
              "    </div>\n",
              "  </div>\n",
              "  "
            ],
            "text/plain": [
              "      Subgroup  Value  LowCI  HighCI\n",
              "0           70   19.4   19.0    19.8\n",
              "1            0   18.7   17.2    20.3\n",
              "2            1   18.3   17.3    19.2\n",
              "3            2   20.4   19.5    21.3\n",
              "4            3   21.2   20.2    22.2\n",
              "...        ...    ...    ...     ...\n",
              "9003        73   12.9   10.3    15.8\n",
              "9004        74   14.3   12.4    16.4\n",
              "9005        75   12.5    8.9    16.8\n",
              "9006        76   10.0    7.8    12.6\n",
              "9007        79   13.8   10.4    17.9\n",
              "\n",
              "[9008 rows x 4 columns]"
            ]
          },
          "metadata": {},
          "execution_count": 40
        }
      ]
    },
    {
      "cell_type": "code",
      "source": [
        "# subject our features to LDA\n",
        "# import LDA method from sklearn library\n",
        "\n",
        "from sklearn.discriminant_analysis import LinearDiscriminantAnalysis as LDA\n",
        "\n",
        "# create an instance of lda\n",
        "lda = LDA()\n",
        "\n",
        "lda_ = lda.fit(feat, group_label)\n",
        "lda_feat = lda_.transform(feat)\n",
        "\n",
        "# Display the coefficient of the reduced columns\n",
        "lda_.coef_"
      ],
      "metadata": {
        "id": "yheSGRx0f7tF",
        "colab": {
          "base_uri": "https://localhost:8080/"
        },
        "outputId": "899ca42e-36c6-44f6-b412-69b5ce0b5794"
      },
      "execution_count": null,
      "outputs": [
        {
          "output_type": "execute_result",
          "data": {
            "text/plain": [
              "array([[ -0.11099036,  -1.75466491,   1.28039722,   0.52523931],\n",
              "       [  0.12629607, -10.91289834,   6.88348828,   4.36449138],\n",
              "       [ -0.01243141,  -2.83409298,   1.97253356,   0.94155231],\n",
              "       [ -0.02356302,  10.51557405,  -6.11180976,  -4.46748716],\n",
              "       [ -0.05515246,  -9.47793218,   6.0003823 ,   3.73827767],\n",
              "       [  0.03237692,   1.58284183,  -0.62948139,  -0.96860984],\n",
              "       [ -0.02322094,  -5.30884117,   3.60920053,   1.85276011],\n",
              "       [ -0.01502229,  -1.95728177,   1.50194282,   0.67721117],\n",
              "       [  0.0138959 ,   1.29446424,  -0.93078675,  -0.41001265],\n",
              "       [  0.10432439,  -8.37917787,   5.46922915,   3.11844087]])"
            ]
          },
          "metadata": {},
          "execution_count": 41
        }
      ]
    },
    {
      "cell_type": "code",
      "source": [
        "# since coefficient are in an array, we need to create a df so that we can retrieve name of columns\n",
        "f_imp = pd.DataFrame(index=feat.columns.values, data=lda_.coef_[0].T)\n",
        "f_imp.sort_values(0, ascending=False)"
      ],
      "metadata": {
        "id": "o7ZeIqtaf7g2",
        "colab": {
          "base_uri": "https://localhost:8080/",
          "height": 175
        },
        "outputId": "701a34a7-bf56-4c24-d8fc-71c0d873a897"
      },
      "execution_count": null,
      "outputs": [
        {
          "output_type": "execute_result",
          "data": {
            "text/html": [
              "\n",
              "  <div id=\"df-643422b4-5865-4c23-85d5-3074b1ca61c0\">\n",
              "    <div class=\"colab-df-container\">\n",
              "      <div>\n",
              "<style scoped>\n",
              "    .dataframe tbody tr th:only-of-type {\n",
              "        vertical-align: middle;\n",
              "    }\n",
              "\n",
              "    .dataframe tbody tr th {\n",
              "        vertical-align: top;\n",
              "    }\n",
              "\n",
              "    .dataframe thead th {\n",
              "        text-align: right;\n",
              "    }\n",
              "</style>\n",
              "<table border=\"1\" class=\"dataframe\">\n",
              "  <thead>\n",
              "    <tr style=\"text-align: right;\">\n",
              "      <th></th>\n",
              "      <th>0</th>\n",
              "    </tr>\n",
              "  </thead>\n",
              "  <tbody>\n",
              "    <tr>\n",
              "      <th>LowCI</th>\n",
              "      <td>1.280397</td>\n",
              "    </tr>\n",
              "    <tr>\n",
              "      <th>HighCI</th>\n",
              "      <td>0.525239</td>\n",
              "    </tr>\n",
              "    <tr>\n",
              "      <th>Subgroup</th>\n",
              "      <td>-0.110990</td>\n",
              "    </tr>\n",
              "    <tr>\n",
              "      <th>Value</th>\n",
              "      <td>-1.754665</td>\n",
              "    </tr>\n",
              "  </tbody>\n",
              "</table>\n",
              "</div>\n",
              "      <button class=\"colab-df-convert\" onclick=\"convertToInteractive('df-643422b4-5865-4c23-85d5-3074b1ca61c0')\"\n",
              "              title=\"Convert this dataframe to an interactive table.\"\n",
              "              style=\"display:none;\">\n",
              "        \n",
              "  <svg xmlns=\"http://www.w3.org/2000/svg\" height=\"24px\"viewBox=\"0 0 24 24\"\n",
              "       width=\"24px\">\n",
              "    <path d=\"M0 0h24v24H0V0z\" fill=\"none\"/>\n",
              "    <path d=\"M18.56 5.44l.94 2.06.94-2.06 2.06-.94-2.06-.94-.94-2.06-.94 2.06-2.06.94zm-11 1L8.5 8.5l.94-2.06 2.06-.94-2.06-.94L8.5 2.5l-.94 2.06-2.06.94zm10 10l.94 2.06.94-2.06 2.06-.94-2.06-.94-.94-2.06-.94 2.06-2.06.94z\"/><path d=\"M17.41 7.96l-1.37-1.37c-.4-.4-.92-.59-1.43-.59-.52 0-1.04.2-1.43.59L10.3 9.45l-7.72 7.72c-.78.78-.78 2.05 0 2.83L4 21.41c.39.39.9.59 1.41.59.51 0 1.02-.2 1.41-.59l7.78-7.78 2.81-2.81c.8-.78.8-2.07 0-2.86zM5.41 20L4 18.59l7.72-7.72 1.47 1.35L5.41 20z\"/>\n",
              "  </svg>\n",
              "      </button>\n",
              "      \n",
              "  <style>\n",
              "    .colab-df-container {\n",
              "      display:flex;\n",
              "      flex-wrap:wrap;\n",
              "      gap: 12px;\n",
              "    }\n",
              "\n",
              "    .colab-df-convert {\n",
              "      background-color: #E8F0FE;\n",
              "      border: none;\n",
              "      border-radius: 50%;\n",
              "      cursor: pointer;\n",
              "      display: none;\n",
              "      fill: #1967D2;\n",
              "      height: 32px;\n",
              "      padding: 0 0 0 0;\n",
              "      width: 32px;\n",
              "    }\n",
              "\n",
              "    .colab-df-convert:hover {\n",
              "      background-color: #E2EBFA;\n",
              "      box-shadow: 0px 1px 2px rgba(60, 64, 67, 0.3), 0px 1px 3px 1px rgba(60, 64, 67, 0.15);\n",
              "      fill: #174EA6;\n",
              "    }\n",
              "\n",
              "    [theme=dark] .colab-df-convert {\n",
              "      background-color: #3B4455;\n",
              "      fill: #D2E3FC;\n",
              "    }\n",
              "\n",
              "    [theme=dark] .colab-df-convert:hover {\n",
              "      background-color: #434B5C;\n",
              "      box-shadow: 0px 1px 3px 1px rgba(0, 0, 0, 0.15);\n",
              "      filter: drop-shadow(0px 1px 2px rgba(0, 0, 0, 0.3));\n",
              "      fill: #FFFFFF;\n",
              "    }\n",
              "  </style>\n",
              "\n",
              "      <script>\n",
              "        const buttonEl =\n",
              "          document.querySelector('#df-643422b4-5865-4c23-85d5-3074b1ca61c0 button.colab-df-convert');\n",
              "        buttonEl.style.display =\n",
              "          google.colab.kernel.accessAllowed ? 'block' : 'none';\n",
              "\n",
              "        async function convertToInteractive(key) {\n",
              "          const element = document.querySelector('#df-643422b4-5865-4c23-85d5-3074b1ca61c0');\n",
              "          const dataTable =\n",
              "            await google.colab.kernel.invokeFunction('convertToInteractive',\n",
              "                                                     [key], {});\n",
              "          if (!dataTable) return;\n",
              "\n",
              "          const docLinkHtml = 'Like what you see? Visit the ' +\n",
              "            '<a target=\"_blank\" href=https://colab.research.google.com/notebooks/data_table.ipynb>data table notebook</a>'\n",
              "            + ' to learn more about interactive tables.';\n",
              "          element.innerHTML = '';\n",
              "          dataTable['output_type'] = 'display_data';\n",
              "          await google.colab.output.renderOutput(dataTable, element);\n",
              "          const docLink = document.createElement('div');\n",
              "          docLink.innerHTML = docLinkHtml;\n",
              "          element.appendChild(docLink);\n",
              "        }\n",
              "      </script>\n",
              "    </div>\n",
              "  </div>\n",
              "  "
            ],
            "text/plain": [
              "                 0\n",
              "LowCI     1.280397\n",
              "HighCI    0.525239\n",
              "Subgroup -0.110990\n",
              "Value    -1.754665"
            ]
          },
          "metadata": {},
          "execution_count": 42
        }
      ]
    },
    {
      "cell_type": "markdown",
      "source": [
        "Normality Test"
      ],
      "metadata": {
        "id": "fQB00Ko-9wtv"
      }
    },
    {
      "cell_type": "markdown",
      "source": [
        "The Shapiro-Wilk test evaluates a data sample and quantifies how likely it is that the data was drawn from a Gaussian distribution.\n",
        "\n",
        "In practice, the Shapiro-Wilk test is believed to be a reliable test of normality"
      ],
      "metadata": {
        "id": "NqHWXmpl-ZhR"
      }
    },
    {
      "cell_type": "code",
      "source": [
        "# Using The Shapiro-Wilk Test, determine whether the given data follows a normal distribution.\n",
        "# ---\n",
        "# \n",
        "\n",
        "# imporing the shapiro function\n",
        "from scipy.stats import shapiro \n",
        "\n",
        "# testing for normality\n",
        "stat, p = shapiro(mental['Group'])\n",
        "print('Statistics=%.3f, p=%.3f' % (stat, p))\n",
        "\n",
        "# interpreting\n",
        "alpha = 0.05\n",
        "if p > alpha:\n",
        "\tprint('Sample looks Gaussian')\n",
        "else:\n",
        "\tprint('Sample does not look Gaussian')\n",
        "  \n",
        "# Running the example first calculates the test on the data sample, \n",
        "# then prints the statistic and calculated p-value. \n",
        "# The p-value is interested and finds that the data is likely drawn from a Gaussian distribution."
      ],
      "metadata": {
        "colab": {
          "base_uri": "https://localhost:8080/"
        },
        "id": "-PpgeXBB-H1j",
        "outputId": "2ba5ca1b-7ccc-4485-bdfb-a27581ff2390"
      },
      "execution_count": null,
      "outputs": [
        {
          "output_type": "stream",
          "name": "stdout",
          "text": [
            "Statistics=0.659, p=0.000\n",
            "Sample does not look Gaussian\n"
          ]
        },
        {
          "output_type": "stream",
          "name": "stderr",
          "text": [
            "/usr/local/lib/python3.7/dist-packages/scipy/stats/morestats.py:1676: UserWarning: p-value may not be accurate for N > 5000.\n",
            "  warnings.warn(\"p-value may not be accurate for N > 5000.\")\n"
          ]
        }
      ]
    },
    {
      "cell_type": "markdown",
      "source": [
        "#6.Sampling"
      ],
      "metadata": {
        "id": "ulH__nJh95cy"
      }
    },
    {
      "cell_type": "code",
      "source": [
        "# Now we will confirm the subgroup by age.\n",
        "# To achieve this we will use pandas .value_count() method\n",
        "# To get the proportion of the non_stratified sample we find the percentage distribution of the different age groups\n",
        "\n",
        "mental_age1.head()\n",
        "(mental_age1['Subgroup'].value_counts()) / len(mental_age1) * 100"
      ],
      "metadata": {
        "colab": {
          "base_uri": "https://localhost:8080/"
        },
        "id": "GuVB4uar_l9V",
        "outputId": "c524f9b1-5eb1-4b1b-a4fc-203c739d973e"
      },
      "execution_count": null,
      "outputs": [
        {
          "output_type": "execute_result",
          "data": {
            "text/plain": [
              "40 - 49 years         14.285714\n",
              "50 - 59 years         14.285714\n",
              "18 - 29 years         14.285714\n",
              "70 - 79 years         14.285714\n",
              "60 - 69 years         14.285714\n",
              "80 years and above    14.285714\n",
              "30 - 39 years         14.285714\n",
              "Name: Subgroup, dtype: float64"
            ]
          },
          "metadata": {},
          "execution_count": 44
        }
      ]
    },
    {
      "cell_type": "code",
      "source": [
        "# To create a stratified random sample we'll use pandas groupBy method. \n",
        "# Basically what the method does is that it splits our dataset into sets and then applies a function on each subset.\n",
        "# In our case, we are going to applies a function that puts each subset into a random sample with a size of \n",
        "import random\n",
        "sample_mental=mental_age1.groupby('Subgroup', group_keys=False).apply(lambda x: x.sample(frac=0.7))\n",
        "sample_mental"
      ],
      "metadata": {
        "colab": {
          "base_uri": "https://localhost:8080/",
          "height": 424
        },
        "id": "KvjG_7Uz98Ft",
        "outputId": "e8947b88-43d5-41b7-bd73-a54aa9dd1f15"
      },
      "execution_count": null,
      "outputs": [
        {
          "output_type": "execute_result",
          "data": {
            "text/html": [
              "\n",
              "  <div id=\"df-ca6cd44a-2c9d-41e5-a369-4f747bb45f63\">\n",
              "    <div class=\"colab-df-container\">\n",
              "      <div>\n",
              "<style scoped>\n",
              "    .dataframe tbody tr th:only-of-type {\n",
              "        vertical-align: middle;\n",
              "    }\n",
              "\n",
              "    .dataframe tbody tr th {\n",
              "        vertical-align: top;\n",
              "    }\n",
              "\n",
              "    .dataframe thead th {\n",
              "        text-align: right;\n",
              "    }\n",
              "</style>\n",
              "<table border=\"1\" class=\"dataframe\">\n",
              "  <thead>\n",
              "    <tr style=\"text-align: right;\">\n",
              "      <th></th>\n",
              "      <th>Group</th>\n",
              "      <th>Subgroup</th>\n",
              "      <th>Value</th>\n",
              "    </tr>\n",
              "  </thead>\n",
              "  <tbody>\n",
              "    <tr>\n",
              "      <th>1081</th>\n",
              "      <td>By Age</td>\n",
              "      <td>18 - 29 years</td>\n",
              "      <td>16.6</td>\n",
              "    </tr>\n",
              "    <tr>\n",
              "      <th>6574</th>\n",
              "      <td>By Age</td>\n",
              "      <td>18 - 29 years</td>\n",
              "      <td>26.6</td>\n",
              "    </tr>\n",
              "    <tr>\n",
              "      <th>4785</th>\n",
              "      <td>By Age</td>\n",
              "      <td>18 - 29 years</td>\n",
              "      <td>21.0</td>\n",
              "    </tr>\n",
              "    <tr>\n",
              "      <th>1873</th>\n",
              "      <td>By Age</td>\n",
              "      <td>18 - 29 years</td>\n",
              "      <td>25.5</td>\n",
              "    </tr>\n",
              "    <tr>\n",
              "      <th>4117</th>\n",
              "      <td>By Age</td>\n",
              "      <td>18 - 29 years</td>\n",
              "      <td>19.5</td>\n",
              "    </tr>\n",
              "    <tr>\n",
              "      <th>...</th>\n",
              "      <td>...</td>\n",
              "      <td>...</td>\n",
              "      <td>...</td>\n",
              "    </tr>\n",
              "    <tr>\n",
              "      <th>799</th>\n",
              "      <td>By Age</td>\n",
              "      <td>80 years and above</td>\n",
              "      <td>3.3</td>\n",
              "    </tr>\n",
              "    <tr>\n",
              "      <th>4717</th>\n",
              "      <td>By Age</td>\n",
              "      <td>80 years and above</td>\n",
              "      <td>3.3</td>\n",
              "    </tr>\n",
              "    <tr>\n",
              "      <th>7563</th>\n",
              "      <td>By Age</td>\n",
              "      <td>80 years and above</td>\n",
              "      <td>3.3</td>\n",
              "    </tr>\n",
              "    <tr>\n",
              "      <th>8283</th>\n",
              "      <td>By Age</td>\n",
              "      <td>80 years and above</td>\n",
              "      <td>8.1</td>\n",
              "    </tr>\n",
              "    <tr>\n",
              "      <th>6500</th>\n",
              "      <td>By Age</td>\n",
              "      <td>80 years and above</td>\n",
              "      <td>18.0</td>\n",
              "    </tr>\n",
              "  </tbody>\n",
              "</table>\n",
              "<p>644 rows × 3 columns</p>\n",
              "</div>\n",
              "      <button class=\"colab-df-convert\" onclick=\"convertToInteractive('df-ca6cd44a-2c9d-41e5-a369-4f747bb45f63')\"\n",
              "              title=\"Convert this dataframe to an interactive table.\"\n",
              "              style=\"display:none;\">\n",
              "        \n",
              "  <svg xmlns=\"http://www.w3.org/2000/svg\" height=\"24px\"viewBox=\"0 0 24 24\"\n",
              "       width=\"24px\">\n",
              "    <path d=\"M0 0h24v24H0V0z\" fill=\"none\"/>\n",
              "    <path d=\"M18.56 5.44l.94 2.06.94-2.06 2.06-.94-2.06-.94-.94-2.06-.94 2.06-2.06.94zm-11 1L8.5 8.5l.94-2.06 2.06-.94-2.06-.94L8.5 2.5l-.94 2.06-2.06.94zm10 10l.94 2.06.94-2.06 2.06-.94-2.06-.94-.94-2.06-.94 2.06-2.06.94z\"/><path d=\"M17.41 7.96l-1.37-1.37c-.4-.4-.92-.59-1.43-.59-.52 0-1.04.2-1.43.59L10.3 9.45l-7.72 7.72c-.78.78-.78 2.05 0 2.83L4 21.41c.39.39.9.59 1.41.59.51 0 1.02-.2 1.41-.59l7.78-7.78 2.81-2.81c.8-.78.8-2.07 0-2.86zM5.41 20L4 18.59l7.72-7.72 1.47 1.35L5.41 20z\"/>\n",
              "  </svg>\n",
              "      </button>\n",
              "      \n",
              "  <style>\n",
              "    .colab-df-container {\n",
              "      display:flex;\n",
              "      flex-wrap:wrap;\n",
              "      gap: 12px;\n",
              "    }\n",
              "\n",
              "    .colab-df-convert {\n",
              "      background-color: #E8F0FE;\n",
              "      border: none;\n",
              "      border-radius: 50%;\n",
              "      cursor: pointer;\n",
              "      display: none;\n",
              "      fill: #1967D2;\n",
              "      height: 32px;\n",
              "      padding: 0 0 0 0;\n",
              "      width: 32px;\n",
              "    }\n",
              "\n",
              "    .colab-df-convert:hover {\n",
              "      background-color: #E2EBFA;\n",
              "      box-shadow: 0px 1px 2px rgba(60, 64, 67, 0.3), 0px 1px 3px 1px rgba(60, 64, 67, 0.15);\n",
              "      fill: #174EA6;\n",
              "    }\n",
              "\n",
              "    [theme=dark] .colab-df-convert {\n",
              "      background-color: #3B4455;\n",
              "      fill: #D2E3FC;\n",
              "    }\n",
              "\n",
              "    [theme=dark] .colab-df-convert:hover {\n",
              "      background-color: #434B5C;\n",
              "      box-shadow: 0px 1px 3px 1px rgba(0, 0, 0, 0.15);\n",
              "      filter: drop-shadow(0px 1px 2px rgba(0, 0, 0, 0.3));\n",
              "      fill: #FFFFFF;\n",
              "    }\n",
              "  </style>\n",
              "\n",
              "      <script>\n",
              "        const buttonEl =\n",
              "          document.querySelector('#df-ca6cd44a-2c9d-41e5-a369-4f747bb45f63 button.colab-df-convert');\n",
              "        buttonEl.style.display =\n",
              "          google.colab.kernel.accessAllowed ? 'block' : 'none';\n",
              "\n",
              "        async function convertToInteractive(key) {\n",
              "          const element = document.querySelector('#df-ca6cd44a-2c9d-41e5-a369-4f747bb45f63');\n",
              "          const dataTable =\n",
              "            await google.colab.kernel.invokeFunction('convertToInteractive',\n",
              "                                                     [key], {});\n",
              "          if (!dataTable) return;\n",
              "\n",
              "          const docLinkHtml = 'Like what you see? Visit the ' +\n",
              "            '<a target=\"_blank\" href=https://colab.research.google.com/notebooks/data_table.ipynb>data table notebook</a>'\n",
              "            + ' to learn more about interactive tables.';\n",
              "          element.innerHTML = '';\n",
              "          dataTable['output_type'] = 'display_data';\n",
              "          await google.colab.output.renderOutput(dataTable, element);\n",
              "          const docLink = document.createElement('div');\n",
              "          docLink.innerHTML = docLinkHtml;\n",
              "          element.appendChild(docLink);\n",
              "        }\n",
              "      </script>\n",
              "    </div>\n",
              "  </div>\n",
              "  "
            ],
            "text/plain": [
              "       Group            Subgroup  Value\n",
              "1081  By Age       18 - 29 years   16.6\n",
              "6574  By Age       18 - 29 years   26.6\n",
              "4785  By Age       18 - 29 years   21.0\n",
              "1873  By Age       18 - 29 years   25.5\n",
              "4117  By Age       18 - 29 years   19.5\n",
              "...      ...                 ...    ...\n",
              "799   By Age  80 years and above    3.3\n",
              "4717  By Age  80 years and above    3.3\n",
              "7563  By Age  80 years and above    3.3\n",
              "8283  By Age  80 years and above    8.1\n",
              "6500  By Age  80 years and above   18.0\n",
              "\n",
              "[644 rows x 3 columns]"
            ]
          },
          "metadata": {},
          "execution_count": 53
        }
      ]
    },
    {
      "cell_type": "markdown",
      "source": [
        "**Hypothesis statement**\n",
        "\n",
        "\n",
        "*$H_{o}$* = The younger individuals were affected equally as the older individuals.\n",
        "\n",
        "*$H_{i}$* = The younger individuals were not affected as equally as than older individuals.\n",
        "\n",
        "The test method used is two proportions z test as our values are different propotions of te same group."
      ],
      "metadata": {
        "id": "NuGENsZIcLoI"
      }
    },
    {
      "cell_type": "code",
      "source": [
        "# a count of individuals with age less than 40 years\n",
        "young_group= sample_mental[sample_mental[\"Subgroup\"].isin(['18 - 29 years', '30 - 39 years'])]\n",
        "young_success=young_group.count()\n",
        "young_success"
      ],
      "metadata": {
        "id": "DL5XLvxM984L",
        "colab": {
          "base_uri": "https://localhost:8080/"
        },
        "outputId": "b9399920-0741-44bf-b721-1f36dbf9f84b"
      },
      "execution_count": null,
      "outputs": [
        {
          "output_type": "execute_result",
          "data": {
            "text/plain": [
              "Group       184\n",
              "Subgroup    184\n",
              "Value       184\n",
              "dtype: int64"
            ]
          },
          "metadata": {},
          "execution_count": 54
        }
      ]
    },
    {
      "cell_type": "code",
      "source": [
        "# count on individuals above age 39 years\n",
        "aged_group= sample_mental[sample_mental[\"Subgroup\"].isin(['40 - 49 years', '50 - 59 years','60 - 69 years','80 years and above','70 - 79 years' ])]\n",
        "aged_success=aged_group.count()\n",
        "aged_success"
      ],
      "metadata": {
        "id": "QKKFvXEn98p0",
        "colab": {
          "base_uri": "https://localhost:8080/"
        },
        "outputId": "08b24af9-a020-4ad3-b11e-5cb13b165b44"
      },
      "execution_count": null,
      "outputs": [
        {
          "output_type": "execute_result",
          "data": {
            "text/plain": [
              "Group       460\n",
              "Subgroup    460\n",
              "Value       460\n",
              "dtype: int64"
            ]
          },
          "metadata": {},
          "execution_count": 55
        }
      ]
    },
    {
      "cell_type": "code",
      "source": [
        "from statsmodels.stats.proportion import proportions_ztest\n",
        "success=np.array([184,460])\n",
        "sample_size=np.array([644,644])\n",
        "proportions_ztest(success,sample_size)\n",
        "##results below return our test statistic and our p value \n",
        "##our p value being less than our significant value 0.05 the tes is hence statistically significant\n",
        "##we hence reject our null hypothesis and uphold the alternate"
      ],
      "metadata": {
        "id": "p9EbNxQdXS8Y",
        "outputId": "37dbb587-9b88-4576-a553-c7ea46dbde65",
        "colab": {
          "base_uri": "https://localhost:8080/"
        }
      },
      "execution_count": null,
      "outputs": [
        {
          "output_type": "execute_result",
          "data": {
            "text/plain": [
              "(-15.380878667079738, 2.199424883913867e-53)"
            ]
          },
          "metadata": {},
          "execution_count": 50
        }
      ]
    }
  ],
  "metadata": {
    "colab": {
      "collapsed_sections": [],
      "name": " EFFECT OF COVID 19 ON MENTAL HEALTH IN USA .Group 3",
      "provenance": [],
      "include_colab_link": true
    },
    "kernelspec": {
      "display_name": "Python 3",
      "name": "python3"
    },
    "language_info": {
      "name": "python"
    }
  },
  "nbformat": 4,
  "nbformat_minor": 0
}